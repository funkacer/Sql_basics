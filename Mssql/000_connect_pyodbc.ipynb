{
 "cells": [
  {
   "cell_type": "code",
   "execution_count": 1,
   "id": "patient-anaheim",
   "metadata": {},
   "outputs": [],
   "source": [
    "import pyodbc\n",
    "\n",
    "#DESKTOP-NO9U58U\\SQLEXPRESS\n",
    "\n",
    "conn = pyodbc.connect('Driver={SQL Server};'\n",
    "                      'Server=DESKTOP-G1G1GTD\\SQLEXPRESS;'\n",
    "                      'Database=dbMoje;'\n",
    "                      'Trusted_Connection=yes;')"
   ]
  },
  {
   "cell_type": "code",
   "execution_count": 2,
   "id": "micro-moment",
   "metadata": {},
   "outputs": [
    {
     "name": "stdout",
     "output_type": "stream",
     "text": [
      "('Moje1     ', 1.0)\n",
      "('Moje2     ', None)\n",
      "('Moje3     ', 12.5)\n"
     ]
    }
   ],
   "source": [
    "cursor = conn.cursor()\n",
    "cursor.execute('SELECT * FROM [Table_1]')\n",
    "\n",
    "for row in cursor:\n",
    "    print(row)\n",
    "    \n",
    "cursor.close()"
   ]
  },
  {
   "cell_type": "code",
   "execution_count": 3,
   "id": "outdoor-blackberry",
   "metadata": {},
   "outputs": [
    {
     "data": {
      "text/plain": [
       "\"cursor.select('SELECT * FROM [Table_1]')\\nsingle_row = dict(zip(zip(*cursor.description)[0], cursor.fetchone()))\\nmultiple_rows = [dict(zip(zip(*cursor.description)[0], row)) for row in cursor.fetchall()]\\n\""
      ]
     },
     "execution_count": 3,
     "metadata": {},
     "output_type": "execute_result"
    }
   ],
   "source": [
    "'''cursor.select('SELECT * FROM [Table_1]')\n",
    "single_row = dict(zip(zip(*cursor.description)[0], cursor.fetchone()))\n",
    "multiple_rows = [dict(zip(zip(*cursor.description)[0], row)) for row in cursor.fetchall()]\n",
    "'''"
   ]
  },
  {
   "cell_type": "code",
   "execution_count": 4,
   "id": "spare-shade",
   "metadata": {},
   "outputs": [
    {
     "name": "stdout",
     "output_type": "stream",
     "text": [
      "{'Column1': 'Moje1     ', 'COlumn2': 1.0}\n",
      "{'Column1': 'Moje2     ', 'COlumn2': None}\n",
      "{'Column1': 'Moje3     ', 'COlumn2': 12.5}\n"
     ]
    }
   ],
   "source": [
    "cursor = conn.cursor()\n",
    "cursor.execute('SELECT * FROM [Table_1]')\n",
    "\n",
    "data = cursor.fetchone()\n",
    "while data:\n",
    "    print(dict(zip([column[0] for column in cursor.description], data)))\n",
    "    data = cursor.fetchone()\n",
    "    \n",
    "cursor.close()"
   ]
  },
  {
   "cell_type": "code",
   "execution_count": 11,
   "id": "peripheral-processing",
   "metadata": {},
   "outputs": [
    {
     "name": "stdout",
     "output_type": "stream",
     "text": [
      "{'Column1': 'Moje1     ', 'COlumn2': 1.0}\n",
      "{'Column1': 'Moje2     ', 'COlumn2': None}\n",
      "{'Column1': 'Moje3     ', 'COlumn2': 12.5}\n"
     ]
    }
   ],
   "source": [
    "cursor = conn.cursor()\n",
    "cursor.execute('SELECT * FROM [Table_1]')\n",
    "\n",
    "data = cursor.fetchone()\n",
    "while data:\n",
    "    print(dict(zip(list(zip(*cursor.description))[0], data)))\n",
    "    data = cursor.fetchone()\n",
    "    \n",
    "cursor.close()"
   ]
  },
  {
   "cell_type": "code",
   "execution_count": 8,
   "id": "brief-oklahoma",
   "metadata": {},
   "outputs": [
    {
     "name": "stdout",
     "output_type": "stream",
     "text": [
      "[{'Column1': 'Moje1     ', 'COlumn2': 1.0}, {'Column1': 'Moje2     ', 'COlumn2': None}, {'Column1': 'Moje3     ', 'COlumn2': 12.5}]\n"
     ]
    }
   ],
   "source": [
    "cursor = conn.cursor()\n",
    "cursor.execute('SELECT * FROM [Table_1]')\n",
    "\n",
    "multiple_rows = [dict(zip(list(zip(*cursor.description))[0], row)) for row in cursor.fetchall()]\n",
    "print(multiple_rows)"
   ]
  },
  {
   "cell_type": "code",
   "execution_count": 9,
   "id": "precise-charles",
   "metadata": {},
   "outputs": [
    {
     "name": "stdout",
     "output_type": "stream",
     "text": [
      "('Column1', 'COlumn2')\n"
     ]
    }
   ],
   "source": [
    "cursor = conn.cursor()\n",
    "cursor.execute('SELECT * FROM [Table_1]')\n",
    "\n",
    "print(list(zip(*cursor.description))[0])"
   ]
  },
  {
   "cell_type": "code",
   "execution_count": 25,
   "id": "dying-growth",
   "metadata": {},
   "outputs": [
    {
     "name": "stdout",
     "output_type": "stream",
     "text": [
      "[('Column1', 'COlumn2'), (<class 'str'>, <class 'float'>), (None, None), (10, 24), (10, 24), (0, 0), (True, True)]\n"
     ]
    }
   ],
   "source": [
    "cursor = conn.cursor()\n",
    "cursor.execute('SELECT * FROM [Table_1]')\n",
    "\n",
    "print(list(zip(*cursor.description)))"
   ]
  },
  {
   "cell_type": "code",
   "execution_count": 18,
   "id": "passive-slovakia",
   "metadata": {},
   "outputs": [
    {
     "name": "stdout",
     "output_type": "stream",
     "text": [
      "(('Column1', <class 'str'>, None, 10, 10, 0, True),)\n"
     ]
    }
   ],
   "source": [
    "cursor = conn.cursor()\n",
    "cursor.execute('SELECT * FROM [Table_1]')\n",
    "\n",
    "print(list(zip(cursor.description))[0])"
   ]
  },
  {
   "cell_type": "code",
   "execution_count": 24,
   "id": "breeding-banana",
   "metadata": {},
   "outputs": [
    {
     "name": "stdout",
     "output_type": "stream",
     "text": [
      "('Column1', <class 'str'>, None, 10, 10, 0, True)\n"
     ]
    }
   ],
   "source": [
    "cursor = conn.cursor()\n",
    "cursor.execute('SELECT * FROM [Table_1]')\n",
    "\n",
    "print(cursor.description[0])"
   ]
  },
  {
   "cell_type": "code",
   "execution_count": null,
   "id": "relative-organizer",
   "metadata": {},
   "outputs": [],
   "source": []
  }
 ],
 "metadata": {
  "kernelspec": {
   "display_name": "Python 3",
   "language": "python",
   "name": "python3"
  },
  "language_info": {
   "codemirror_mode": {
    "name": "ipython",
    "version": 3
   },
   "file_extension": ".py",
   "mimetype": "text/x-python",
   "name": "python",
   "nbconvert_exporter": "python",
   "pygments_lexer": "ipython3",
   "version": "3.9.2"
  }
 },
 "nbformat": 4,
 "nbformat_minor": 5
}
