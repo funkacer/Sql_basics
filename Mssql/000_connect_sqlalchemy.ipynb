{
 "cells": [
  {
   "cell_type": "code",
   "execution_count": 1,
   "id": "encouraging-honor",
   "metadata": {},
   "outputs": [
    {
     "name": "stdout",
     "output_type": "stream",
     "text": [
      "      Column1  COlumn2\n",
      "0  Moje1           1.0\n",
      "1  Moje2           NaN\n",
      "2  Moje3          12.5\n"
     ]
    }
   ],
   "source": [
    "import pandas as pd\n",
    "from sqlalchemy import create_engine\n",
    "\n",
    "import urllib\n",
    "\n",
    "quoted = urllib.parse.quote_plus(\"Driver={SQL Server};Server=DESKTOP-G1G1GTD\\SQLEXPRESS;Database=dbMoje;Trusted_Connection=yes;\")\n",
    "engine = create_engine('mssql+pyodbc:///?odbc_connect={}'.format(quoted))\n",
    "df = pd.read_sql_table(con=engine, table_name = \"Table_1\")\n",
    "print(df)\n"
   ]
  },
  {
   "cell_type": "code",
   "execution_count": 2,
   "id": "future-peripheral",
   "metadata": {},
   "outputs": [],
   "source": [
    "conn = engine.raw_connection()\n",
    "c = conn.cursor()"
   ]
  },
  {
   "cell_type": "code",
   "execution_count": 3,
   "id": "adjustable-rates",
   "metadata": {},
   "outputs": [
    {
     "name": "stdout",
     "output_type": "stream",
     "text": [
      "['Column1', 'COlumn2']\n",
      "[('Moje1     ', 1.0), ('Moje2     ', None), ('Moje3     ', 12.5)]\n"
     ]
    }
   ],
   "source": [
    "c.execute('select * from [Table_1]')\n",
    "data = c.fetchall()\n",
    "columns = [col[0] for col in c.description]\n",
    "\n",
    "print(columns)\n",
    "print(data)"
   ]
  },
  {
   "cell_type": "code",
   "execution_count": 4,
   "id": "discrete-jones",
   "metadata": {},
   "outputs": [
    {
     "name": "stdout",
     "output_type": "stream",
     "text": [
      "{'Column1': 'Moje1     ', 'COlumn2': 1.0}\n",
      "{'Column1': 'Moje2     ', 'COlumn2': None}\n",
      "{'Column1': 'Moje3     ', 'COlumn2': 12.5}\n"
     ]
    }
   ],
   "source": [
    "c.execute('select * from [Table_1]')\n",
    "columns = [col[0] for col in c.description]\n",
    "data = c.fetchone()\n",
    "while data:\n",
    "    print(dict(zip(columns, data)))\n",
    "    data = c.fetchone()  "
   ]
  },
  {
   "cell_type": "code",
   "execution_count": null,
   "id": "spare-shade",
   "metadata": {},
   "outputs": [],
   "source": []
  }
 ],
 "metadata": {
  "kernelspec": {
   "display_name": "Python 3",
   "language": "python",
   "name": "python3"
  },
  "language_info": {
   "codemirror_mode": {
    "name": "ipython",
    "version": 3
   },
   "file_extension": ".py",
   "mimetype": "text/x-python",
   "name": "python",
   "nbconvert_exporter": "python",
   "pygments_lexer": "ipython3",
   "version": "3.9.2"
  }
 },
 "nbformat": 4,
 "nbformat_minor": 5
}
