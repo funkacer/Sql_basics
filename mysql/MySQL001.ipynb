{
 "cells": [
  {
   "cell_type": "markdown",
   "metadata": {},
   "source": [
    "pip install mysqlclient"
   ]
  },
  {
   "cell_type": "markdown",
   "metadata": {},
   "source": [
    "import MySQLdb\n",
    "\n",
    "db=MySQLdb.connect(passwd=\"moonpie\",db=\"thangs\")\n",
    "\n",
    "c=db.cursor()\n",
    "\n",
    "max_price=5\n",
    "\n",
    "c.execute(\"\"\"SELECT spam, eggs, sausage FROM breakfast\n",
    "          WHERE price < %s\"\"\", (max_price,))\n",
    "          \n",
    "c.fetchone()\n",
    "\n",
    "c.executemany(\n",
    "\n",
    "      \"\"\"INSERT INTO breakfast (name, spam, eggs, sausage, price)\n",
    "      VALUES (%s, %s, %s, %s, %s)\"\"\",\n",
    "      \n",
    "      [\n",
    "      (\"Spam and Sausage Lover's Plate\", 5, 1, 8, 7.95 ),\n",
    "      (\"Not So Much Spam Plate\", 3, 2, 0, 3.95 ),\n",
    "      (\"Don't Wany ANY SPAM! Plate\", 0, 4, 3, 5.95 )\n",
    "      \n",
    "      ] )"
   ]
  },
  {
   "cell_type": "code",
   "execution_count": 1,
   "metadata": {},
   "outputs": [],
   "source": [
    "import MySQLdb"
   ]
  },
  {
   "cell_type": "markdown",
   "metadata": {},
   "source": [
    "root@localhost"
   ]
  },
  {
   "cell_type": "code",
   "execution_count": 2,
   "metadata": {},
   "outputs": [
    {
     "name": "stdout",
     "output_type": "stream",
     "text": [
      "(('actor',), ('actor_info',), ('address',), ('category',), ('city',), ('country',), ('customer',), ('customer_list',), ('film',), ('film_actor',), ('film_category',), ('film_list',), ('film_text',), ('inventory',), ('language',), ('nicer_but_slower_film_list',), ('payment',), ('rental',), ('sales_by_film_category',), ('sales_by_store',), ('staff',), ('staff_list',), ('store',))\n"
     ]
    }
   ],
   "source": [
    "conn = MySQLdb.connect('localhost','root','admin')\n",
    "with conn:\n",
    "    c = conn.cursor()\n",
    "    c.execute('use sakila')\n",
    "    c.execute('show tables')\n",
    "    data = c.fetchall()\n",
    "print(data)"
   ]
  },
  {
   "cell_type": "code",
   "execution_count": 3,
   "metadata": {},
   "outputs": [],
   "source": [
    "conn = MySQLdb.connect(host='localhost',user='root',passwd='admin',db = 'sakila')\n",
    "c = conn.cursor()"
   ]
  },
  {
   "cell_type": "code",
   "execution_count": 4,
   "metadata": {},
   "outputs": [
    {
     "name": "stdout",
     "output_type": "stream",
     "text": [
      "(('actor',), ('actor_info',), ('address',), ('category',), ('city',), ('country',), ('customer',), ('customer_list',), ('film',), ('film_actor',), ('film_category',), ('film_list',), ('film_text',), ('inventory',), ('language',), ('nicer_but_slower_film_list',), ('payment',), ('rental',), ('sales_by_film_category',), ('sales_by_store',), ('staff',), ('staff_list',), ('store',))\n"
     ]
    }
   ],
   "source": [
    "c.execute('show tables')\n",
    "data = c.fetchall()\n",
    "print(data)"
   ]
  },
  {
   "cell_type": "code",
   "execution_count": 5,
   "metadata": {},
   "outputs": [],
   "source": [
    "c.execute('show tables')\n",
    "data = c.fetchall()"
   ]
  },
  {
   "cell_type": "code",
   "execution_count": 6,
   "metadata": {},
   "outputs": [
    {
     "name": "stdout",
     "output_type": "stream",
     "text": [
      "(('actor',), ('actor_info',), ('address',), ('category',), ('city',), ('country',), ('customer',), ('customer_list',), ('film',), ('film_actor',), ('film_category',), ('film_list',), ('film_text',), ('inventory',), ('language',), ('nicer_but_slower_film_list',), ('payment',), ('rental',), ('sales_by_film_category',), ('sales_by_store',), ('staff',), ('staff_list',), ('store',))\n"
     ]
    }
   ],
   "source": [
    "print(data)"
   ]
  },
  {
   "cell_type": "code",
   "execution_count": 7,
   "metadata": {},
   "outputs": [],
   "source": [
    "conn.close()"
   ]
  },
  {
   "cell_type": "code",
   "execution_count": 8,
   "metadata": {},
   "outputs": [
    {
     "ename": "OperationalError",
     "evalue": "(2006, '')",
     "output_type": "error",
     "traceback": [
      "\u001b[1;31m---------------------------------------------------------------------------\u001b[0m",
      "\u001b[1;31mOperationalError\u001b[0m                          Traceback (most recent call last)",
      "\u001b[1;32m<ipython-input-8-999d6aa05ab6>\u001b[0m in \u001b[0;36m<module>\u001b[1;34m\u001b[0m\n\u001b[1;32m----> 1\u001b[1;33m \u001b[0mc\u001b[0m\u001b[1;33m.\u001b[0m\u001b[0mexecute\u001b[0m\u001b[1;33m(\u001b[0m\u001b[1;34m'show tables'\u001b[0m\u001b[1;33m)\u001b[0m\u001b[1;33m\u001b[0m\u001b[1;33m\u001b[0m\u001b[0m\n\u001b[0m\u001b[0;32m      2\u001b[0m \u001b[0mdata\u001b[0m \u001b[1;33m=\u001b[0m \u001b[0mc\u001b[0m\u001b[1;33m.\u001b[0m\u001b[0mfetchall\u001b[0m\u001b[1;33m(\u001b[0m\u001b[1;33m)\u001b[0m\u001b[1;33m\u001b[0m\u001b[1;33m\u001b[0m\u001b[0m\n",
      "\u001b[1;32mc:\\program files\\python38\\lib\\site-packages\\MySQLdb\\cursors.py\u001b[0m in \u001b[0;36mexecute\u001b[1;34m(self, query, args)\u001b[0m\n\u001b[0;32m    181\u001b[0m         \u001b[0mReturns\u001b[0m \u001b[0minteger\u001b[0m \u001b[0mrepresents\u001b[0m \u001b[0mrows\u001b[0m \u001b[0maffected\u001b[0m\u001b[1;33m,\u001b[0m \u001b[1;32mif\u001b[0m \u001b[0many\u001b[0m\u001b[1;33m\u001b[0m\u001b[1;33m\u001b[0m\u001b[0m\n\u001b[0;32m    182\u001b[0m         \"\"\"\n\u001b[1;32m--> 183\u001b[1;33m         \u001b[1;32mwhile\u001b[0m \u001b[0mself\u001b[0m\u001b[1;33m.\u001b[0m\u001b[0mnextset\u001b[0m\u001b[1;33m(\u001b[0m\u001b[1;33m)\u001b[0m\u001b[1;33m:\u001b[0m\u001b[1;33m\u001b[0m\u001b[1;33m\u001b[0m\u001b[0m\n\u001b[0m\u001b[0;32m    184\u001b[0m             \u001b[1;32mpass\u001b[0m\u001b[1;33m\u001b[0m\u001b[1;33m\u001b[0m\u001b[0m\n\u001b[0;32m    185\u001b[0m         \u001b[0mdb\u001b[0m \u001b[1;33m=\u001b[0m \u001b[0mself\u001b[0m\u001b[1;33m.\u001b[0m\u001b[0m_get_db\u001b[0m\u001b[1;33m(\u001b[0m\u001b[1;33m)\u001b[0m\u001b[1;33m\u001b[0m\u001b[1;33m\u001b[0m\u001b[0m\n",
      "\u001b[1;32mc:\\program files\\python38\\lib\\site-packages\\MySQLdb\\cursors.py\u001b[0m in \u001b[0;36mnextset\u001b[1;34m(self)\u001b[0m\n\u001b[0;32m    135\u001b[0m \u001b[1;33m\u001b[0m\u001b[0m\n\u001b[0;32m    136\u001b[0m         \u001b[0mdb\u001b[0m \u001b[1;33m=\u001b[0m \u001b[0mself\u001b[0m\u001b[1;33m.\u001b[0m\u001b[0m_get_db\u001b[0m\u001b[1;33m(\u001b[0m\u001b[1;33m)\u001b[0m\u001b[1;33m\u001b[0m\u001b[1;33m\u001b[0m\u001b[0m\n\u001b[1;32m--> 137\u001b[1;33m         \u001b[0mnr\u001b[0m \u001b[1;33m=\u001b[0m \u001b[0mdb\u001b[0m\u001b[1;33m.\u001b[0m\u001b[0mnext_result\u001b[0m\u001b[1;33m(\u001b[0m\u001b[1;33m)\u001b[0m\u001b[1;33m\u001b[0m\u001b[1;33m\u001b[0m\u001b[0m\n\u001b[0m\u001b[0;32m    138\u001b[0m         \u001b[1;32mif\u001b[0m \u001b[0mnr\u001b[0m \u001b[1;33m==\u001b[0m \u001b[1;33m-\u001b[0m\u001b[1;36m1\u001b[0m\u001b[1;33m:\u001b[0m\u001b[1;33m\u001b[0m\u001b[1;33m\u001b[0m\u001b[0m\n\u001b[0;32m    139\u001b[0m             \u001b[1;32mreturn\u001b[0m \u001b[1;32mNone\u001b[0m\u001b[1;33m\u001b[0m\u001b[1;33m\u001b[0m\u001b[0m\n",
      "\u001b[1;31mOperationalError\u001b[0m: (2006, '')"
     ]
    }
   ],
   "source": [
    "c.execute('show tables')\n",
    "data = c.fetchall()"
   ]
  },
  {
   "cell_type": "code",
   "execution_count": 9,
   "metadata": {},
   "outputs": [
    {
     "ename": "ProgrammingError",
     "evalue": "(1007, \"Can't create database 'moje'; database exists\")",
     "output_type": "error",
     "traceback": [
      "\u001b[1;31m---------------------------------------------------------------------------\u001b[0m",
      "\u001b[1;31mProgrammingError\u001b[0m                          Traceback (most recent call last)",
      "\u001b[1;32m<ipython-input-9-e33d5a996af2>\u001b[0m in \u001b[0;36m<module>\u001b[1;34m\u001b[0m\n\u001b[0;32m      1\u001b[0m \u001b[0mconn\u001b[0m \u001b[1;33m=\u001b[0m \u001b[0mMySQLdb\u001b[0m\u001b[1;33m.\u001b[0m\u001b[0mconnect\u001b[0m\u001b[1;33m(\u001b[0m\u001b[0mhost\u001b[0m\u001b[1;33m=\u001b[0m\u001b[1;34m'localhost'\u001b[0m\u001b[1;33m,\u001b[0m\u001b[0muser\u001b[0m\u001b[1;33m=\u001b[0m\u001b[1;34m'root'\u001b[0m\u001b[1;33m,\u001b[0m\u001b[0mpasswd\u001b[0m\u001b[1;33m=\u001b[0m\u001b[1;34m'admin'\u001b[0m\u001b[1;33m)\u001b[0m\u001b[1;33m\u001b[0m\u001b[1;33m\u001b[0m\u001b[0m\n\u001b[0;32m      2\u001b[0m \u001b[0mc\u001b[0m \u001b[1;33m=\u001b[0m \u001b[0mconn\u001b[0m\u001b[1;33m.\u001b[0m\u001b[0mcursor\u001b[0m\u001b[1;33m(\u001b[0m\u001b[1;33m)\u001b[0m\u001b[1;33m\u001b[0m\u001b[1;33m\u001b[0m\u001b[0m\n\u001b[1;32m----> 3\u001b[1;33m \u001b[0mc\u001b[0m\u001b[1;33m.\u001b[0m\u001b[0mexecute\u001b[0m\u001b[1;33m(\u001b[0m\u001b[1;34m\"create schema moje\"\u001b[0m\u001b[1;33m)\u001b[0m\u001b[1;33m\u001b[0m\u001b[1;33m\u001b[0m\u001b[0m\n\u001b[0m\u001b[0;32m      4\u001b[0m \u001b[0mconn\u001b[0m\u001b[1;33m.\u001b[0m\u001b[0mclose\u001b[0m\u001b[1;33m(\u001b[0m\u001b[1;33m)\u001b[0m\u001b[1;33m\u001b[0m\u001b[1;33m\u001b[0m\u001b[0m\n",
      "\u001b[1;32mc:\\program files\\python38\\lib\\site-packages\\MySQLdb\\cursors.py\u001b[0m in \u001b[0;36mexecute\u001b[1;34m(self, query, args)\u001b[0m\n\u001b[0;32m    204\u001b[0m \u001b[1;33m\u001b[0m\u001b[0m\n\u001b[0;32m    205\u001b[0m         \u001b[1;32massert\u001b[0m \u001b[0misinstance\u001b[0m\u001b[1;33m(\u001b[0m\u001b[0mquery\u001b[0m\u001b[1;33m,\u001b[0m \u001b[1;33m(\u001b[0m\u001b[0mbytes\u001b[0m\u001b[1;33m,\u001b[0m \u001b[0mbytearray\u001b[0m\u001b[1;33m)\u001b[0m\u001b[1;33m)\u001b[0m\u001b[1;33m\u001b[0m\u001b[1;33m\u001b[0m\u001b[0m\n\u001b[1;32m--> 206\u001b[1;33m         \u001b[0mres\u001b[0m \u001b[1;33m=\u001b[0m \u001b[0mself\u001b[0m\u001b[1;33m.\u001b[0m\u001b[0m_query\u001b[0m\u001b[1;33m(\u001b[0m\u001b[0mquery\u001b[0m\u001b[1;33m)\u001b[0m\u001b[1;33m\u001b[0m\u001b[1;33m\u001b[0m\u001b[0m\n\u001b[0m\u001b[0;32m    207\u001b[0m         \u001b[1;32mreturn\u001b[0m \u001b[0mres\u001b[0m\u001b[1;33m\u001b[0m\u001b[1;33m\u001b[0m\u001b[0m\n\u001b[0;32m    208\u001b[0m \u001b[1;33m\u001b[0m\u001b[0m\n",
      "\u001b[1;32mc:\\program files\\python38\\lib\\site-packages\\MySQLdb\\cursors.py\u001b[0m in \u001b[0;36m_query\u001b[1;34m(self, q)\u001b[0m\n\u001b[0;32m    317\u001b[0m         \u001b[0mdb\u001b[0m \u001b[1;33m=\u001b[0m \u001b[0mself\u001b[0m\u001b[1;33m.\u001b[0m\u001b[0m_get_db\u001b[0m\u001b[1;33m(\u001b[0m\u001b[1;33m)\u001b[0m\u001b[1;33m\u001b[0m\u001b[1;33m\u001b[0m\u001b[0m\n\u001b[0;32m    318\u001b[0m         \u001b[0mself\u001b[0m\u001b[1;33m.\u001b[0m\u001b[0m_result\u001b[0m \u001b[1;33m=\u001b[0m \u001b[1;32mNone\u001b[0m\u001b[1;33m\u001b[0m\u001b[1;33m\u001b[0m\u001b[0m\n\u001b[1;32m--> 319\u001b[1;33m         \u001b[0mdb\u001b[0m\u001b[1;33m.\u001b[0m\u001b[0mquery\u001b[0m\u001b[1;33m(\u001b[0m\u001b[0mq\u001b[0m\u001b[1;33m)\u001b[0m\u001b[1;33m\u001b[0m\u001b[1;33m\u001b[0m\u001b[0m\n\u001b[0m\u001b[0;32m    320\u001b[0m         \u001b[0mself\u001b[0m\u001b[1;33m.\u001b[0m\u001b[0m_do_get_result\u001b[0m\u001b[1;33m(\u001b[0m\u001b[0mdb\u001b[0m\u001b[1;33m)\u001b[0m\u001b[1;33m\u001b[0m\u001b[1;33m\u001b[0m\u001b[0m\n\u001b[0;32m    321\u001b[0m         \u001b[0mself\u001b[0m\u001b[1;33m.\u001b[0m\u001b[0m_post_get_result\u001b[0m\u001b[1;33m(\u001b[0m\u001b[1;33m)\u001b[0m\u001b[1;33m\u001b[0m\u001b[1;33m\u001b[0m\u001b[0m\n",
      "\u001b[1;32mc:\\program files\\python38\\lib\\site-packages\\MySQLdb\\connections.py\u001b[0m in \u001b[0;36mquery\u001b[1;34m(self, query)\u001b[0m\n\u001b[0;32m    257\u001b[0m         \u001b[1;32mif\u001b[0m \u001b[0misinstance\u001b[0m\u001b[1;33m(\u001b[0m\u001b[0mquery\u001b[0m\u001b[1;33m,\u001b[0m \u001b[0mbytearray\u001b[0m\u001b[1;33m)\u001b[0m\u001b[1;33m:\u001b[0m\u001b[1;33m\u001b[0m\u001b[1;33m\u001b[0m\u001b[0m\n\u001b[0;32m    258\u001b[0m             \u001b[0mquery\u001b[0m \u001b[1;33m=\u001b[0m \u001b[0mbytes\u001b[0m\u001b[1;33m(\u001b[0m\u001b[0mquery\u001b[0m\u001b[1;33m)\u001b[0m\u001b[1;33m\u001b[0m\u001b[1;33m\u001b[0m\u001b[0m\n\u001b[1;32m--> 259\u001b[1;33m         \u001b[0m_mysql\u001b[0m\u001b[1;33m.\u001b[0m\u001b[0mconnection\u001b[0m\u001b[1;33m.\u001b[0m\u001b[0mquery\u001b[0m\u001b[1;33m(\u001b[0m\u001b[0mself\u001b[0m\u001b[1;33m,\u001b[0m \u001b[0mquery\u001b[0m\u001b[1;33m)\u001b[0m\u001b[1;33m\u001b[0m\u001b[1;33m\u001b[0m\u001b[0m\n\u001b[0m\u001b[0;32m    260\u001b[0m \u001b[1;33m\u001b[0m\u001b[0m\n\u001b[0;32m    261\u001b[0m     \u001b[1;32mdef\u001b[0m \u001b[0m_bytes_literal\u001b[0m\u001b[1;33m(\u001b[0m\u001b[0mself\u001b[0m\u001b[1;33m,\u001b[0m \u001b[0mbs\u001b[0m\u001b[1;33m)\u001b[0m\u001b[1;33m:\u001b[0m\u001b[1;33m\u001b[0m\u001b[1;33m\u001b[0m\u001b[0m\n",
      "\u001b[1;31mProgrammingError\u001b[0m: (1007, \"Can't create database 'moje'; database exists\")"
     ]
    }
   ],
   "source": [
    "conn = MySQLdb.connect(host='localhost',user='root',passwd='admin')\n",
    "c = conn.cursor()\n",
    "c.execute(\"create schema moje\")\n",
    "conn.close()"
   ]
  },
  {
   "cell_type": "code",
   "execution_count": 10,
   "metadata": {},
   "outputs": [],
   "source": [
    "conn = MySQLdb.connect(host='localhost',user='root',passwd='admin',db='moje')\n",
    "c = conn.cursor()"
   ]
  },
  {
   "cell_type": "code",
   "execution_count": 15,
   "metadata": {},
   "outputs": [
    {
     "data": {
      "text/plain": [
       "()"
      ]
     },
     "execution_count": 15,
     "metadata": {},
     "output_type": "execute_result"
    }
   ],
   "source": [
    "c.execute('show tables')\n",
    "data = c.fetchall()\n",
    "data"
   ]
  },
  {
   "cell_type": "code",
   "execution_count": 16,
   "metadata": {},
   "outputs": [],
   "source": [
    "conn = MySQLdb.connect(host='localhost',user='root',passwd='admin')\n",
    "c = conn.cursor()"
   ]
  },
  {
   "cell_type": "code",
   "execution_count": 17,
   "metadata": {},
   "outputs": [
    {
     "data": {
      "text/plain": [
       "(('information_schema',),\n",
       " ('moje',),\n",
       " ('mysql',),\n",
       " ('performance_schema',),\n",
       " ('sakila',),\n",
       " ('sys',),\n",
       " ('world',))"
      ]
     },
     "execution_count": 17,
     "metadata": {},
     "output_type": "execute_result"
    }
   ],
   "source": [
    "c.execute('''select schema_name as database_name\n",
    "from information_schema.schemata\n",
    "order by schema_name;''')\n",
    "data = c.fetchall()\n",
    "data"
   ]
  },
  {
   "cell_type": "code",
   "execution_count": 19,
   "metadata": {},
   "outputs": [
    {
     "data": {
      "text/plain": [
       "(('information_schema',),\n",
       " ('moje',),\n",
       " ('mysql',),\n",
       " ('performance_schema',),\n",
       " ('sakila',),\n",
       " ('sys',),\n",
       " ('world',))"
      ]
     },
     "execution_count": 19,
     "metadata": {},
     "output_type": "execute_result"
    }
   ],
   "source": [
    "c.execute('show databases;')\n",
    "data = c.fetchall()\n",
    "data"
   ]
  },
  {
   "cell_type": "code",
   "execution_count": 21,
   "metadata": {},
   "outputs": [
    {
     "data": {
      "text/plain": [
       "(('information_schema',),\n",
       " ('moje',),\n",
       " ('mysql',),\n",
       " ('performance_schema',),\n",
       " ('sakila',),\n",
       " ('sys',),\n",
       " ('world',))"
      ]
     },
     "execution_count": 21,
     "metadata": {},
     "output_type": "execute_result"
    }
   ],
   "source": [
    "c.execute('show schemas;')\n",
    "data = c.fetchall()\n",
    "data"
   ]
  },
  {
   "cell_type": "code",
   "execution_count": 22,
   "metadata": {},
   "outputs": [],
   "source": [
    "conn.close()"
   ]
  },
  {
   "cell_type": "code",
   "execution_count": 23,
   "metadata": {},
   "outputs": [],
   "source": [
    "conn = MySQLdb.connect(host='localhost',user='root',passwd='admin')\n",
    "c = conn.cursor()"
   ]
  },
  {
   "cell_type": "code",
   "execution_count": 25,
   "metadata": {},
   "outputs": [
    {
     "data": {
      "text/plain": [
       "((1, 'PENELOPE', 'GUINESS', datetime.datetime(2006, 2, 15, 4, 34, 33)),\n",
       " (2, 'NICK', 'WAHLBERG', datetime.datetime(2006, 2, 15, 4, 34, 33)),\n",
       " (3, 'ED', 'CHASE', datetime.datetime(2006, 2, 15, 4, 34, 33)),\n",
       " (4, 'JENNIFER', 'DAVIS', datetime.datetime(2006, 2, 15, 4, 34, 33)),\n",
       " (5, 'JOHNNY', 'LOLLOBRIGIDA', datetime.datetime(2006, 2, 15, 4, 34, 33)),\n",
       " (6, 'BETTE', 'NICHOLSON', datetime.datetime(2006, 2, 15, 4, 34, 33)),\n",
       " (7, 'GRACE', 'MOSTEL', datetime.datetime(2006, 2, 15, 4, 34, 33)),\n",
       " (8, 'MATTHEW', 'JOHANSSON', datetime.datetime(2006, 2, 15, 4, 34, 33)),\n",
       " (9, 'JOE', 'SWANK', datetime.datetime(2006, 2, 15, 4, 34, 33)),\n",
       " (10, 'CHRISTIAN', 'GABLE', datetime.datetime(2006, 2, 15, 4, 34, 33)),\n",
       " (11, 'ZERO', 'CAGE', datetime.datetime(2006, 2, 15, 4, 34, 33)),\n",
       " (12, 'KARL', 'BERRY', datetime.datetime(2006, 2, 15, 4, 34, 33)),\n",
       " (13, 'UMA', 'WOOD', datetime.datetime(2006, 2, 15, 4, 34, 33)),\n",
       " (14, 'VIVIEN', 'BERGEN', datetime.datetime(2006, 2, 15, 4, 34, 33)),\n",
       " (15, 'CUBA', 'OLIVIER', datetime.datetime(2006, 2, 15, 4, 34, 33)),\n",
       " (16, 'FRED', 'COSTNER', datetime.datetime(2006, 2, 15, 4, 34, 33)),\n",
       " (17, 'HELEN', 'VOIGHT', datetime.datetime(2006, 2, 15, 4, 34, 33)),\n",
       " (18, 'DAN', 'TORN', datetime.datetime(2006, 2, 15, 4, 34, 33)),\n",
       " (19, 'BOB', 'FAWCETT', datetime.datetime(2006, 2, 15, 4, 34, 33)),\n",
       " (20, 'LUCILLE', 'TRACY', datetime.datetime(2006, 2, 15, 4, 34, 33)),\n",
       " (21, 'KIRSTEN', 'PALTROW', datetime.datetime(2006, 2, 15, 4, 34, 33)),\n",
       " (22, 'ELVIS', 'MARX', datetime.datetime(2006, 2, 15, 4, 34, 33)),\n",
       " (23, 'SANDRA', 'KILMER', datetime.datetime(2006, 2, 15, 4, 34, 33)),\n",
       " (24, 'CAMERON', 'STREEP', datetime.datetime(2006, 2, 15, 4, 34, 33)),\n",
       " (25, 'KEVIN', 'BLOOM', datetime.datetime(2006, 2, 15, 4, 34, 33)),\n",
       " (26, 'RIP', 'CRAWFORD', datetime.datetime(2006, 2, 15, 4, 34, 33)),\n",
       " (27, 'JULIA', 'MCQUEEN', datetime.datetime(2006, 2, 15, 4, 34, 33)),\n",
       " (28, 'WOODY', 'HOFFMAN', datetime.datetime(2006, 2, 15, 4, 34, 33)),\n",
       " (29, 'ALEC', 'WAYNE', datetime.datetime(2006, 2, 15, 4, 34, 33)),\n",
       " (30, 'SANDRA', 'PECK', datetime.datetime(2006, 2, 15, 4, 34, 33)),\n",
       " (31, 'SISSY', 'SOBIESKI', datetime.datetime(2006, 2, 15, 4, 34, 33)),\n",
       " (32, 'TIM', 'HACKMAN', datetime.datetime(2006, 2, 15, 4, 34, 33)),\n",
       " (33, 'MILLA', 'PECK', datetime.datetime(2006, 2, 15, 4, 34, 33)),\n",
       " (34, 'AUDREY', 'OLIVIER', datetime.datetime(2006, 2, 15, 4, 34, 33)),\n",
       " (35, 'JUDY', 'DEAN', datetime.datetime(2006, 2, 15, 4, 34, 33)),\n",
       " (36, 'BURT', 'DUKAKIS', datetime.datetime(2006, 2, 15, 4, 34, 33)),\n",
       " (37, 'VAL', 'BOLGER', datetime.datetime(2006, 2, 15, 4, 34, 33)),\n",
       " (38, 'TOM', 'MCKELLEN', datetime.datetime(2006, 2, 15, 4, 34, 33)),\n",
       " (39, 'GOLDIE', 'BRODY', datetime.datetime(2006, 2, 15, 4, 34, 33)),\n",
       " (40, 'JOHNNY', 'CAGE', datetime.datetime(2006, 2, 15, 4, 34, 33)),\n",
       " (41, 'JODIE', 'DEGENERES', datetime.datetime(2006, 2, 15, 4, 34, 33)),\n",
       " (42, 'TOM', 'MIRANDA', datetime.datetime(2006, 2, 15, 4, 34, 33)),\n",
       " (43, 'KIRK', 'JOVOVICH', datetime.datetime(2006, 2, 15, 4, 34, 33)),\n",
       " (44, 'NICK', 'STALLONE', datetime.datetime(2006, 2, 15, 4, 34, 33)),\n",
       " (45, 'REESE', 'KILMER', datetime.datetime(2006, 2, 15, 4, 34, 33)),\n",
       " (46, 'PARKER', 'GOLDBERG', datetime.datetime(2006, 2, 15, 4, 34, 33)),\n",
       " (47, 'JULIA', 'BARRYMORE', datetime.datetime(2006, 2, 15, 4, 34, 33)),\n",
       " (48, 'FRANCES', 'DAY-LEWIS', datetime.datetime(2006, 2, 15, 4, 34, 33)),\n",
       " (49, 'ANNE', 'CRONYN', datetime.datetime(2006, 2, 15, 4, 34, 33)),\n",
       " (50, 'NATALIE', 'HOPKINS', datetime.datetime(2006, 2, 15, 4, 34, 33)),\n",
       " (51, 'GARY', 'PHOENIX', datetime.datetime(2006, 2, 15, 4, 34, 33)),\n",
       " (52, 'CARMEN', 'HUNT', datetime.datetime(2006, 2, 15, 4, 34, 33)),\n",
       " (53, 'MENA', 'TEMPLE', datetime.datetime(2006, 2, 15, 4, 34, 33)),\n",
       " (54, 'PENELOPE', 'PINKETT', datetime.datetime(2006, 2, 15, 4, 34, 33)),\n",
       " (55, 'FAY', 'KILMER', datetime.datetime(2006, 2, 15, 4, 34, 33)),\n",
       " (56, 'DAN', 'HARRIS', datetime.datetime(2006, 2, 15, 4, 34, 33)),\n",
       " (57, 'JUDE', 'CRUISE', datetime.datetime(2006, 2, 15, 4, 34, 33)),\n",
       " (58, 'CHRISTIAN', 'AKROYD', datetime.datetime(2006, 2, 15, 4, 34, 33)),\n",
       " (59, 'DUSTIN', 'TAUTOU', datetime.datetime(2006, 2, 15, 4, 34, 33)),\n",
       " (60, 'HENRY', 'BERRY', datetime.datetime(2006, 2, 15, 4, 34, 33)),\n",
       " (61, 'CHRISTIAN', 'NEESON', datetime.datetime(2006, 2, 15, 4, 34, 33)),\n",
       " (62, 'JAYNE', 'NEESON', datetime.datetime(2006, 2, 15, 4, 34, 33)),\n",
       " (63, 'CAMERON', 'WRAY', datetime.datetime(2006, 2, 15, 4, 34, 33)),\n",
       " (64, 'RAY', 'JOHANSSON', datetime.datetime(2006, 2, 15, 4, 34, 33)),\n",
       " (65, 'ANGELA', 'HUDSON', datetime.datetime(2006, 2, 15, 4, 34, 33)),\n",
       " (66, 'MARY', 'TANDY', datetime.datetime(2006, 2, 15, 4, 34, 33)),\n",
       " (67, 'JESSICA', 'BAILEY', datetime.datetime(2006, 2, 15, 4, 34, 33)),\n",
       " (68, 'RIP', 'WINSLET', datetime.datetime(2006, 2, 15, 4, 34, 33)),\n",
       " (69, 'KENNETH', 'PALTROW', datetime.datetime(2006, 2, 15, 4, 34, 33)),\n",
       " (70, 'MICHELLE', 'MCCONAUGHEY', datetime.datetime(2006, 2, 15, 4, 34, 33)),\n",
       " (71, 'ADAM', 'GRANT', datetime.datetime(2006, 2, 15, 4, 34, 33)),\n",
       " (72, 'SEAN', 'WILLIAMS', datetime.datetime(2006, 2, 15, 4, 34, 33)),\n",
       " (73, 'GARY', 'PENN', datetime.datetime(2006, 2, 15, 4, 34, 33)),\n",
       " (74, 'MILLA', 'KEITEL', datetime.datetime(2006, 2, 15, 4, 34, 33)),\n",
       " (75, 'BURT', 'POSEY', datetime.datetime(2006, 2, 15, 4, 34, 33)),\n",
       " (76, 'ANGELINA', 'ASTAIRE', datetime.datetime(2006, 2, 15, 4, 34, 33)),\n",
       " (77, 'CARY', 'MCCONAUGHEY', datetime.datetime(2006, 2, 15, 4, 34, 33)),\n",
       " (78, 'GROUCHO', 'SINATRA', datetime.datetime(2006, 2, 15, 4, 34, 33)),\n",
       " (79, 'MAE', 'HOFFMAN', datetime.datetime(2006, 2, 15, 4, 34, 33)),\n",
       " (80, 'RALPH', 'CRUZ', datetime.datetime(2006, 2, 15, 4, 34, 33)),\n",
       " (81, 'SCARLETT', 'DAMON', datetime.datetime(2006, 2, 15, 4, 34, 33)),\n",
       " (82, 'WOODY', 'JOLIE', datetime.datetime(2006, 2, 15, 4, 34, 33)),\n",
       " (83, 'BEN', 'WILLIS', datetime.datetime(2006, 2, 15, 4, 34, 33)),\n",
       " (84, 'JAMES', 'PITT', datetime.datetime(2006, 2, 15, 4, 34, 33)),\n",
       " (85, 'MINNIE', 'ZELLWEGER', datetime.datetime(2006, 2, 15, 4, 34, 33)),\n",
       " (86, 'GREG', 'CHAPLIN', datetime.datetime(2006, 2, 15, 4, 34, 33)),\n",
       " (87, 'SPENCER', 'PECK', datetime.datetime(2006, 2, 15, 4, 34, 33)),\n",
       " (88, 'KENNETH', 'PESCI', datetime.datetime(2006, 2, 15, 4, 34, 33)),\n",
       " (89, 'CHARLIZE', 'DENCH', datetime.datetime(2006, 2, 15, 4, 34, 33)),\n",
       " (90, 'SEAN', 'GUINESS', datetime.datetime(2006, 2, 15, 4, 34, 33)),\n",
       " (91, 'CHRISTOPHER', 'BERRY', datetime.datetime(2006, 2, 15, 4, 34, 33)),\n",
       " (92, 'KIRSTEN', 'AKROYD', datetime.datetime(2006, 2, 15, 4, 34, 33)),\n",
       " (93, 'ELLEN', 'PRESLEY', datetime.datetime(2006, 2, 15, 4, 34, 33)),\n",
       " (94, 'KENNETH', 'TORN', datetime.datetime(2006, 2, 15, 4, 34, 33)),\n",
       " (95, 'DARYL', 'WAHLBERG', datetime.datetime(2006, 2, 15, 4, 34, 33)),\n",
       " (96, 'GENE', 'WILLIS', datetime.datetime(2006, 2, 15, 4, 34, 33)),\n",
       " (97, 'MEG', 'HAWKE', datetime.datetime(2006, 2, 15, 4, 34, 33)),\n",
       " (98, 'CHRIS', 'BRIDGES', datetime.datetime(2006, 2, 15, 4, 34, 33)),\n",
       " (99, 'JIM', 'MOSTEL', datetime.datetime(2006, 2, 15, 4, 34, 33)),\n",
       " (100, 'SPENCER', 'DEPP', datetime.datetime(2006, 2, 15, 4, 34, 33)),\n",
       " (101, 'SUSAN', 'DAVIS', datetime.datetime(2006, 2, 15, 4, 34, 33)),\n",
       " (102, 'WALTER', 'TORN', datetime.datetime(2006, 2, 15, 4, 34, 33)),\n",
       " (103, 'MATTHEW', 'LEIGH', datetime.datetime(2006, 2, 15, 4, 34, 33)),\n",
       " (104, 'PENELOPE', 'CRONYN', datetime.datetime(2006, 2, 15, 4, 34, 33)),\n",
       " (105, 'SIDNEY', 'CROWE', datetime.datetime(2006, 2, 15, 4, 34, 33)),\n",
       " (106, 'GROUCHO', 'DUNST', datetime.datetime(2006, 2, 15, 4, 34, 33)),\n",
       " (107, 'GINA', 'DEGENERES', datetime.datetime(2006, 2, 15, 4, 34, 33)),\n",
       " (108, 'WARREN', 'NOLTE', datetime.datetime(2006, 2, 15, 4, 34, 33)),\n",
       " (109, 'SYLVESTER', 'DERN', datetime.datetime(2006, 2, 15, 4, 34, 33)),\n",
       " (110, 'SUSAN', 'DAVIS', datetime.datetime(2006, 2, 15, 4, 34, 33)),\n",
       " (111, 'CAMERON', 'ZELLWEGER', datetime.datetime(2006, 2, 15, 4, 34, 33)),\n",
       " (112, 'RUSSELL', 'BACALL', datetime.datetime(2006, 2, 15, 4, 34, 33)),\n",
       " (113, 'MORGAN', 'HOPKINS', datetime.datetime(2006, 2, 15, 4, 34, 33)),\n",
       " (114, 'MORGAN', 'MCDORMAND', datetime.datetime(2006, 2, 15, 4, 34, 33)),\n",
       " (115, 'HARRISON', 'BALE', datetime.datetime(2006, 2, 15, 4, 34, 33)),\n",
       " (116, 'DAN', 'STREEP', datetime.datetime(2006, 2, 15, 4, 34, 33)),\n",
       " (117, 'RENEE', 'TRACY', datetime.datetime(2006, 2, 15, 4, 34, 33)),\n",
       " (118, 'CUBA', 'ALLEN', datetime.datetime(2006, 2, 15, 4, 34, 33)),\n",
       " (119, 'WARREN', 'JACKMAN', datetime.datetime(2006, 2, 15, 4, 34, 33)),\n",
       " (120, 'PENELOPE', 'MONROE', datetime.datetime(2006, 2, 15, 4, 34, 33)),\n",
       " (121, 'LIZA', 'BERGMAN', datetime.datetime(2006, 2, 15, 4, 34, 33)),\n",
       " (122, 'SALMA', 'NOLTE', datetime.datetime(2006, 2, 15, 4, 34, 33)),\n",
       " (123, 'JULIANNE', 'DENCH', datetime.datetime(2006, 2, 15, 4, 34, 33)),\n",
       " (124, 'SCARLETT', 'BENING', datetime.datetime(2006, 2, 15, 4, 34, 33)),\n",
       " (125, 'ALBERT', 'NOLTE', datetime.datetime(2006, 2, 15, 4, 34, 33)),\n",
       " (126, 'FRANCES', 'TOMEI', datetime.datetime(2006, 2, 15, 4, 34, 33)),\n",
       " (127, 'KEVIN', 'GARLAND', datetime.datetime(2006, 2, 15, 4, 34, 33)),\n",
       " (128, 'CATE', 'MCQUEEN', datetime.datetime(2006, 2, 15, 4, 34, 33)),\n",
       " (129, 'DARYL', 'CRAWFORD', datetime.datetime(2006, 2, 15, 4, 34, 33)),\n",
       " (130, 'GRETA', 'KEITEL', datetime.datetime(2006, 2, 15, 4, 34, 33)),\n",
       " (131, 'JANE', 'JACKMAN', datetime.datetime(2006, 2, 15, 4, 34, 33)),\n",
       " (132, 'ADAM', 'HOPPER', datetime.datetime(2006, 2, 15, 4, 34, 33)),\n",
       " (133, 'RICHARD', 'PENN', datetime.datetime(2006, 2, 15, 4, 34, 33)),\n",
       " (134, 'GENE', 'HOPKINS', datetime.datetime(2006, 2, 15, 4, 34, 33)),\n",
       " (135, 'RITA', 'REYNOLDS', datetime.datetime(2006, 2, 15, 4, 34, 33)),\n",
       " (136, 'ED', 'MANSFIELD', datetime.datetime(2006, 2, 15, 4, 34, 33)),\n",
       " (137, 'MORGAN', 'WILLIAMS', datetime.datetime(2006, 2, 15, 4, 34, 33)),\n",
       " (138, 'LUCILLE', 'DEE', datetime.datetime(2006, 2, 15, 4, 34, 33)),\n",
       " (139, 'EWAN', 'GOODING', datetime.datetime(2006, 2, 15, 4, 34, 33)),\n",
       " (140, 'WHOOPI', 'HURT', datetime.datetime(2006, 2, 15, 4, 34, 33)),\n",
       " (141, 'CATE', 'HARRIS', datetime.datetime(2006, 2, 15, 4, 34, 33)),\n",
       " (142, 'JADA', 'RYDER', datetime.datetime(2006, 2, 15, 4, 34, 33)),\n",
       " (143, 'RIVER', 'DEAN', datetime.datetime(2006, 2, 15, 4, 34, 33)),\n",
       " (144, 'ANGELA', 'WITHERSPOON', datetime.datetime(2006, 2, 15, 4, 34, 33)),\n",
       " (145, 'KIM', 'ALLEN', datetime.datetime(2006, 2, 15, 4, 34, 33)),\n",
       " (146, 'ALBERT', 'JOHANSSON', datetime.datetime(2006, 2, 15, 4, 34, 33)),\n",
       " (147, 'FAY', 'WINSLET', datetime.datetime(2006, 2, 15, 4, 34, 33)),\n",
       " (148, 'EMILY', 'DEE', datetime.datetime(2006, 2, 15, 4, 34, 33)),\n",
       " (149, 'RUSSELL', 'TEMPLE', datetime.datetime(2006, 2, 15, 4, 34, 33)),\n",
       " (150, 'JAYNE', 'NOLTE', datetime.datetime(2006, 2, 15, 4, 34, 33)),\n",
       " (151, 'GEOFFREY', 'HESTON', datetime.datetime(2006, 2, 15, 4, 34, 33)),\n",
       " (152, 'BEN', 'HARRIS', datetime.datetime(2006, 2, 15, 4, 34, 33)),\n",
       " (153, 'MINNIE', 'KILMER', datetime.datetime(2006, 2, 15, 4, 34, 33)),\n",
       " (154, 'MERYL', 'GIBSON', datetime.datetime(2006, 2, 15, 4, 34, 33)),\n",
       " (155, 'IAN', 'TANDY', datetime.datetime(2006, 2, 15, 4, 34, 33)),\n",
       " (156, 'FAY', 'WOOD', datetime.datetime(2006, 2, 15, 4, 34, 33)),\n",
       " (157, 'GRETA', 'MALDEN', datetime.datetime(2006, 2, 15, 4, 34, 33)),\n",
       " (158, 'VIVIEN', 'BASINGER', datetime.datetime(2006, 2, 15, 4, 34, 33)),\n",
       " (159, 'LAURA', 'BRODY', datetime.datetime(2006, 2, 15, 4, 34, 33)),\n",
       " (160, 'CHRIS', 'DEPP', datetime.datetime(2006, 2, 15, 4, 34, 33)),\n",
       " (161, 'HARVEY', 'HOPE', datetime.datetime(2006, 2, 15, 4, 34, 33)),\n",
       " (162, 'OPRAH', 'KILMER', datetime.datetime(2006, 2, 15, 4, 34, 33)),\n",
       " (163, 'CHRISTOPHER', 'WEST', datetime.datetime(2006, 2, 15, 4, 34, 33)),\n",
       " (164, 'HUMPHREY', 'WILLIS', datetime.datetime(2006, 2, 15, 4, 34, 33)),\n",
       " (165, 'AL', 'GARLAND', datetime.datetime(2006, 2, 15, 4, 34, 33)),\n",
       " (166, 'NICK', 'DEGENERES', datetime.datetime(2006, 2, 15, 4, 34, 33)),\n",
       " (167, 'LAURENCE', 'BULLOCK', datetime.datetime(2006, 2, 15, 4, 34, 33)),\n",
       " (168, 'WILL', 'WILSON', datetime.datetime(2006, 2, 15, 4, 34, 33)),\n",
       " (169, 'KENNETH', 'HOFFMAN', datetime.datetime(2006, 2, 15, 4, 34, 33)),\n",
       " (170, 'MENA', 'HOPPER', datetime.datetime(2006, 2, 15, 4, 34, 33)),\n",
       " (171, 'OLYMPIA', 'PFEIFFER', datetime.datetime(2006, 2, 15, 4, 34, 33)),\n",
       " (172, 'GROUCHO', 'WILLIAMS', datetime.datetime(2006, 2, 15, 4, 34, 33)),\n",
       " (173, 'ALAN', 'DREYFUSS', datetime.datetime(2006, 2, 15, 4, 34, 33)),\n",
       " (174, 'MICHAEL', 'BENING', datetime.datetime(2006, 2, 15, 4, 34, 33)),\n",
       " (175, 'WILLIAM', 'HACKMAN', datetime.datetime(2006, 2, 15, 4, 34, 33)),\n",
       " (176, 'JON', 'CHASE', datetime.datetime(2006, 2, 15, 4, 34, 33)),\n",
       " (177, 'GENE', 'MCKELLEN', datetime.datetime(2006, 2, 15, 4, 34, 33)),\n",
       " (178, 'LISA', 'MONROE', datetime.datetime(2006, 2, 15, 4, 34, 33)),\n",
       " (179, 'ED', 'GUINESS', datetime.datetime(2006, 2, 15, 4, 34, 33)),\n",
       " (180, 'JEFF', 'SILVERSTONE', datetime.datetime(2006, 2, 15, 4, 34, 33)),\n",
       " (181, 'MATTHEW', 'CARREY', datetime.datetime(2006, 2, 15, 4, 34, 33)),\n",
       " (182, 'DEBBIE', 'AKROYD', datetime.datetime(2006, 2, 15, 4, 34, 33)),\n",
       " (183, 'RUSSELL', 'CLOSE', datetime.datetime(2006, 2, 15, 4, 34, 33)),\n",
       " (184, 'HUMPHREY', 'GARLAND', datetime.datetime(2006, 2, 15, 4, 34, 33)),\n",
       " (185, 'MICHAEL', 'BOLGER', datetime.datetime(2006, 2, 15, 4, 34, 33)),\n",
       " (186, 'JULIA', 'ZELLWEGER', datetime.datetime(2006, 2, 15, 4, 34, 33)),\n",
       " (187, 'RENEE', 'BALL', datetime.datetime(2006, 2, 15, 4, 34, 33)),\n",
       " (188, 'ROCK', 'DUKAKIS', datetime.datetime(2006, 2, 15, 4, 34, 33)),\n",
       " (189, 'CUBA', 'BIRCH', datetime.datetime(2006, 2, 15, 4, 34, 33)),\n",
       " (190, 'AUDREY', 'BAILEY', datetime.datetime(2006, 2, 15, 4, 34, 33)),\n",
       " (191, 'GREGORY', 'GOODING', datetime.datetime(2006, 2, 15, 4, 34, 33)),\n",
       " (192, 'JOHN', 'SUVARI', datetime.datetime(2006, 2, 15, 4, 34, 33)),\n",
       " (193, 'BURT', 'TEMPLE', datetime.datetime(2006, 2, 15, 4, 34, 33)),\n",
       " (194, 'MERYL', 'ALLEN', datetime.datetime(2006, 2, 15, 4, 34, 33)),\n",
       " (195, 'JAYNE', 'SILVERSTONE', datetime.datetime(2006, 2, 15, 4, 34, 33)),\n",
       " (196, 'BELA', 'WALKEN', datetime.datetime(2006, 2, 15, 4, 34, 33)),\n",
       " (197, 'REESE', 'WEST', datetime.datetime(2006, 2, 15, 4, 34, 33)),\n",
       " (198, 'MARY', 'KEITEL', datetime.datetime(2006, 2, 15, 4, 34, 33)),\n",
       " (199, 'JULIA', 'FAWCETT', datetime.datetime(2006, 2, 15, 4, 34, 33)),\n",
       " (200, 'THORA', 'TEMPLE', datetime.datetime(2006, 2, 15, 4, 34, 33)))"
      ]
     },
     "execution_count": 25,
     "metadata": {},
     "output_type": "execute_result"
    }
   ],
   "source": [
    "c.execute('''select * from sakila.actor;''')\n",
    "data = c.fetchall()\n",
    "data"
   ]
  },
  {
   "cell_type": "code",
   "execution_count": 27,
   "metadata": {},
   "outputs": [],
   "source": [
    "conn = MySQLdb.connect(host='localhost',user='root',passwd='admin',db='sakila')\n",
    "c = conn.cursor()"
   ]
  },
  {
   "cell_type": "code",
   "execution_count": 28,
   "metadata": {},
   "outputs": [
    {
     "data": {
      "text/plain": [
       "(('sakila', 'actor'),\n",
       " ('sakila', 'address'),\n",
       " ('sakila', 'category'),\n",
       " ('sakila', 'city'),\n",
       " ('sakila', 'country'),\n",
       " ('sakila', 'customer'),\n",
       " ('sakila', 'film'),\n",
       " ('sakila', 'film_actor'),\n",
       " ('sakila', 'film_category'),\n",
       " ('sakila', 'film_text'),\n",
       " ('sakila', 'inventory'),\n",
       " ('sakila', 'language'),\n",
       " ('sakila', 'payment'),\n",
       " ('sakila', 'rental'),\n",
       " ('sakila', 'staff'),\n",
       " ('sakila', 'store'))"
      ]
     },
     "execution_count": 28,
     "metadata": {},
     "output_type": "execute_result"
    }
   ],
   "source": [
    "# if schema is used\n",
    "c.execute('''select table_schema as database_name,\n",
    "    table_name\n",
    "from information_schema.tables\n",
    "where table_type = 'BASE TABLE'\n",
    "        and table_schema = database() \n",
    "order by database_name, table_name;''')\n",
    "data = c.fetchall()\n",
    "data"
   ]
  },
  {
   "cell_type": "code",
   "execution_count": 30,
   "metadata": {},
   "outputs": [],
   "source": [
    "conn = MySQLdb.connect(host='localhost',user='root',passwd='admin')\n",
    "c = conn.cursor()"
   ]
  },
  {
   "cell_type": "code",
   "execution_count": 31,
   "metadata": {},
   "outputs": [
    {
     "data": {
      "text/plain": [
       "()"
      ]
     },
     "execution_count": 31,
     "metadata": {},
     "output_type": "execute_result"
    }
   ],
   "source": [
    "# specified database\n",
    "c.execute('''select table_schema as database_name,\n",
    "    table_name\n",
    "from information_schema.tables\n",
    "where table_type = 'BASE TABLE'\n",
    "        and table_schema = 'database_name' -- enter your database name here\n",
    "order by database_name, table_name;''')\n",
    "data = c.fetchall()\n",
    "data"
   ]
  },
  {
   "cell_type": "code",
   "execution_count": 33,
   "metadata": {},
   "outputs": [
    {
     "data": {
      "text/plain": [
       "(('sakila', 'actor'),\n",
       " ('sakila', 'address'),\n",
       " ('sakila', 'category'),\n",
       " ('sakila', 'city'),\n",
       " ('sakila', 'country'),\n",
       " ('sakila', 'customer'),\n",
       " ('sakila', 'film'),\n",
       " ('sakila', 'film_actor'),\n",
       " ('sakila', 'film_category'),\n",
       " ('sakila', 'film_text'),\n",
       " ('sakila', 'inventory'),\n",
       " ('sakila', 'language'),\n",
       " ('sakila', 'payment'),\n",
       " ('sakila', 'rental'),\n",
       " ('sakila', 'staff'),\n",
       " ('sakila', 'store'))"
      ]
     },
     "execution_count": 33,
     "metadata": {},
     "output_type": "execute_result"
    }
   ],
   "source": [
    "# specified database\n",
    "db = 'sakila'\n",
    "c.execute(f'''select table_schema as database_name,\n",
    "    table_name\n",
    "from information_schema.tables\n",
    "where table_type = 'BASE TABLE'\n",
    "        and table_schema = '{db}' -- enter your database name here\n",
    "order by database_name, table_name;''')\n",
    "data = c.fetchall()\n",
    "data"
   ]
  },
  {
   "cell_type": "code",
   "execution_count": 34,
   "metadata": {},
   "outputs": [
    {
     "data": {
      "text/plain": [
       "(('information_schema',),\n",
       " ('moje',),\n",
       " ('mysql',),\n",
       " ('performance_schema',),\n",
       " ('sakila',),\n",
       " ('sys',),\n",
       " ('world',))"
      ]
     },
     "execution_count": 34,
     "metadata": {},
     "output_type": "execute_result"
    }
   ],
   "source": [
    "c.execute('''select schema_name as database_name\n",
    "from information_schema.schemata\n",
    "order by schema_name;''')\n",
    "dbs = c.fetchall()\n",
    "dbs"
   ]
  },
  {
   "cell_type": "code",
   "execution_count": 40,
   "metadata": {},
   "outputs": [
    {
     "name": "stdout",
     "output_type": "stream",
     "text": [
      "INFORMATION_SCHEMA\n",
      "()\n",
      "MOJE\n",
      "()\n",
      "MYSQL\n",
      "(('mysql', 'columns_priv'), ('mysql', 'component'), ('mysql', 'db'), ('mysql', 'default_roles'), ('mysql', 'engine_cost'), ('mysql', 'func'), ('mysql', 'general_log'), ('mysql', 'global_grants'), ('mysql', 'gtid_executed'), ('mysql', 'help_category'), ('mysql', 'help_keyword'), ('mysql', 'help_relation'), ('mysql', 'help_topic'), ('mysql', 'innodb_index_stats'), ('mysql', 'innodb_table_stats'), ('mysql', 'password_history'), ('mysql', 'plugin'), ('mysql', 'procs_priv'), ('mysql', 'proxies_priv'), ('mysql', 'replication_asynchronous_connection_failover'), ('mysql', 'role_edges'), ('mysql', 'server_cost'), ('mysql', 'servers'), ('mysql', 'slave_master_info'), ('mysql', 'slave_relay_log_info'), ('mysql', 'slave_worker_info'), ('mysql', 'slow_log'), ('mysql', 'tables_priv'), ('mysql', 'time_zone'), ('mysql', 'time_zone_leap_second'), ('mysql', 'time_zone_name'), ('mysql', 'time_zone_transition'), ('mysql', 'time_zone_transition_type'), ('mysql', 'user'))\n",
      "PERFORMANCE_SCHEMA\n",
      "(('performance_schema', 'accounts'), ('performance_schema', 'binary_log_transaction_compression_stats'), ('performance_schema', 'cond_instances'), ('performance_schema', 'data_lock_waits'), ('performance_schema', 'data_locks'), ('performance_schema', 'error_log'), ('performance_schema', 'events_errors_summary_by_account_by_error'), ('performance_schema', 'events_errors_summary_by_host_by_error'), ('performance_schema', 'events_errors_summary_by_thread_by_error'), ('performance_schema', 'events_errors_summary_by_user_by_error'), ('performance_schema', 'events_errors_summary_global_by_error'), ('performance_schema', 'events_stages_current'), ('performance_schema', 'events_stages_history'), ('performance_schema', 'events_stages_history_long'), ('performance_schema', 'events_stages_summary_by_account_by_event_name'), ('performance_schema', 'events_stages_summary_by_host_by_event_name'), ('performance_schema', 'events_stages_summary_by_thread_by_event_name'), ('performance_schema', 'events_stages_summary_by_user_by_event_name'), ('performance_schema', 'events_stages_summary_global_by_event_name'), ('performance_schema', 'events_statements_current'), ('performance_schema', 'events_statements_histogram_by_digest'), ('performance_schema', 'events_statements_histogram_global'), ('performance_schema', 'events_statements_history'), ('performance_schema', 'events_statements_history_long'), ('performance_schema', 'events_statements_summary_by_account_by_event_name'), ('performance_schema', 'events_statements_summary_by_digest'), ('performance_schema', 'events_statements_summary_by_host_by_event_name'), ('performance_schema', 'events_statements_summary_by_program'), ('performance_schema', 'events_statements_summary_by_thread_by_event_name'), ('performance_schema', 'events_statements_summary_by_user_by_event_name'), ('performance_schema', 'events_statements_summary_global_by_event_name'), ('performance_schema', 'events_transactions_current'), ('performance_schema', 'events_transactions_history'), ('performance_schema', 'events_transactions_history_long'), ('performance_schema', 'events_transactions_summary_by_account_by_event_name'), ('performance_schema', 'events_transactions_summary_by_host_by_event_name'), ('performance_schema', 'events_transactions_summary_by_thread_by_event_name'), ('performance_schema', 'events_transactions_summary_by_user_by_event_name'), ('performance_schema', 'events_transactions_summary_global_by_event_name'), ('performance_schema', 'events_waits_current'), ('performance_schema', 'events_waits_history'), ('performance_schema', 'events_waits_history_long'), ('performance_schema', 'events_waits_summary_by_account_by_event_name'), ('performance_schema', 'events_waits_summary_by_host_by_event_name'), ('performance_schema', 'events_waits_summary_by_instance'), ('performance_schema', 'events_waits_summary_by_thread_by_event_name'), ('performance_schema', 'events_waits_summary_by_user_by_event_name'), ('performance_schema', 'events_waits_summary_global_by_event_name'), ('performance_schema', 'file_instances'), ('performance_schema', 'file_summary_by_event_name'), ('performance_schema', 'file_summary_by_instance'), ('performance_schema', 'global_status'), ('performance_schema', 'global_variables'), ('performance_schema', 'host_cache'), ('performance_schema', 'hosts'), ('performance_schema', 'keyring_keys'), ('performance_schema', 'log_status'), ('performance_schema', 'memory_summary_by_account_by_event_name'), ('performance_schema', 'memory_summary_by_host_by_event_name'), ('performance_schema', 'memory_summary_by_thread_by_event_name'), ('performance_schema', 'memory_summary_by_user_by_event_name'), ('performance_schema', 'memory_summary_global_by_event_name'), ('performance_schema', 'metadata_locks'), ('performance_schema', 'mutex_instances'), ('performance_schema', 'objects_summary_global_by_type'), ('performance_schema', 'performance_timers'), ('performance_schema', 'persisted_variables'), ('performance_schema', 'prepared_statements_instances'), ('performance_schema', 'processlist'), ('performance_schema', 'replication_applier_configuration'), ('performance_schema', 'replication_applier_filters'), ('performance_schema', 'replication_applier_global_filters'), ('performance_schema', 'replication_applier_status'), ('performance_schema', 'replication_applier_status_by_coordinator'), ('performance_schema', 'replication_applier_status_by_worker'), ('performance_schema', 'replication_asynchronous_connection_failover'), ('performance_schema', 'replication_connection_configuration'), ('performance_schema', 'replication_connection_status'), ('performance_schema', 'replication_group_member_stats'), ('performance_schema', 'replication_group_members'), ('performance_schema', 'rwlock_instances'), ('performance_schema', 'session_account_connect_attrs'), ('performance_schema', 'session_connect_attrs'), ('performance_schema', 'session_status'), ('performance_schema', 'session_variables'), ('performance_schema', 'setup_actors'), ('performance_schema', 'setup_consumers'), ('performance_schema', 'setup_instruments'), ('performance_schema', 'setup_objects'), ('performance_schema', 'setup_threads'), ('performance_schema', 'socket_instances'), ('performance_schema', 'socket_summary_by_event_name'), ('performance_schema', 'socket_summary_by_instance'), ('performance_schema', 'status_by_account'), ('performance_schema', 'status_by_host'), ('performance_schema', 'status_by_thread'), ('performance_schema', 'status_by_user'), ('performance_schema', 'table_handles'), ('performance_schema', 'table_io_waits_summary_by_index_usage'), ('performance_schema', 'table_io_waits_summary_by_table'), ('performance_schema', 'table_lock_waits_summary_by_table'), ('performance_schema', 'threads'), ('performance_schema', 'tls_channel_status'), ('performance_schema', 'user_defined_functions'), ('performance_schema', 'user_variables_by_thread'), ('performance_schema', 'users'), ('performance_schema', 'variables_by_thread'), ('performance_schema', 'variables_info'))\n",
      "SAKILA\n",
      "(('sakila', 'actor'), ('sakila', 'address'), ('sakila', 'category'), ('sakila', 'city'), ('sakila', 'country'), ('sakila', 'customer'), ('sakila', 'film'), ('sakila', 'film_actor'), ('sakila', 'film_category'), ('sakila', 'film_text'), ('sakila', 'inventory'), ('sakila', 'language'), ('sakila', 'payment'), ('sakila', 'rental'), ('sakila', 'staff'), ('sakila', 'store'))\n",
      "SYS\n",
      "(('sys', 'sys_config'),)\n",
      "WORLD\n",
      "(('world', 'city'), ('world', 'country'), ('world', 'countrylanguage'))\n"
     ]
    }
   ],
   "source": [
    "# specified database\n",
    "for db in dbs:\n",
    "    print(db[0].upper())\n",
    "    c.execute(f'''select table_schema as database_name,\n",
    "        table_name\n",
    "    from information_schema.tables\n",
    "    where table_type = 'BASE TABLE'\n",
    "            and table_schema = '{db[0]}' -- enter your database name here\n",
    "    order by database_name, table_name;''')\n",
    "    data = c.fetchall()\n",
    "    print(data)"
   ]
  },
  {
   "cell_type": "code",
   "execution_count": null,
   "metadata": {},
   "outputs": [],
   "source": []
  }
 ],
 "metadata": {
  "kernelspec": {
   "display_name": "Python 3",
   "language": "python",
   "name": "python3"
  },
  "language_info": {
   "codemirror_mode": {
    "name": "ipython",
    "version": 3
   },
   "file_extension": ".py",
   "mimetype": "text/x-python",
   "name": "python",
   "nbconvert_exporter": "python",
   "pygments_lexer": "ipython3",
   "version": "3.8.6"
  }
 },
 "nbformat": 4,
 "nbformat_minor": 4
}
