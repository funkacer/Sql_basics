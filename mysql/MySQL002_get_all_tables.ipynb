{
 "cells": [
  {
   "cell_type": "code",
   "execution_count": 3,
   "metadata": {},
   "outputs": [],
   "source": [
    "import MySQLdb"
   ]
  },
  {
   "cell_type": "code",
   "execution_count": 4,
   "metadata": {},
   "outputs": [],
   "source": [
    "conn = MySQLdb.connect(host='localhost',user='root',passwd='admin')\n",
    "c = conn.cursor()"
   ]
  },
  {
   "cell_type": "code",
   "execution_count": 5,
   "metadata": {},
   "outputs": [
    {
     "data": {
      "text/plain": [
       "(('information_schema',),\n",
       " ('moje',),\n",
       " ('mysql',),\n",
       " ('performance_schema',),\n",
       " ('sakila',),\n",
       " ('sys',),\n",
       " ('world',))"
      ]
     },
     "execution_count": 5,
     "metadata": {},
     "output_type": "execute_result"
    }
   ],
   "source": [
    "c.execute('''select schema_name as database_name\n",
    "from information_schema.schemata\n",
    "order by schema_name;''')\n",
    "dbs = c.fetchall()\n",
    "dbs"
   ]
  },
  {
   "cell_type": "code",
   "execution_count": 6,
   "metadata": {},
   "outputs": [
    {
     "name": "stdout",
     "output_type": "stream",
     "text": [
      "INFORMATION_SCHEMA\n",
      "[]\n",
      "MOJE\n",
      "[]\n",
      "MYSQL\n",
      "['columns_priv', 'component', 'db', 'default_roles', 'engine_cost', 'func', 'general_log', 'global_grants', 'gtid_executed', 'help_category', 'help_keyword', 'help_relation', 'help_topic', 'innodb_index_stats', 'innodb_table_stats', 'password_history', 'plugin', 'procs_priv', 'proxies_priv', 'replication_asynchronous_connection_failover', 'role_edges', 'server_cost', 'servers', 'slave_master_info', 'slave_relay_log_info', 'slave_worker_info', 'slow_log', 'tables_priv', 'time_zone', 'time_zone_leap_second', 'time_zone_name', 'time_zone_transition', 'time_zone_transition_type', 'user']\n",
      "PERFORMANCE_SCHEMA\n",
      "['accounts', 'binary_log_transaction_compression_stats', 'cond_instances', 'data_lock_waits', 'data_locks', 'error_log', 'events_errors_summary_by_account_by_error', 'events_errors_summary_by_host_by_error', 'events_errors_summary_by_thread_by_error', 'events_errors_summary_by_user_by_error', 'events_errors_summary_global_by_error', 'events_stages_current', 'events_stages_history', 'events_stages_history_long', 'events_stages_summary_by_account_by_event_name', 'events_stages_summary_by_host_by_event_name', 'events_stages_summary_by_thread_by_event_name', 'events_stages_summary_by_user_by_event_name', 'events_stages_summary_global_by_event_name', 'events_statements_current', 'events_statements_histogram_by_digest', 'events_statements_histogram_global', 'events_statements_history', 'events_statements_history_long', 'events_statements_summary_by_account_by_event_name', 'events_statements_summary_by_digest', 'events_statements_summary_by_host_by_event_name', 'events_statements_summary_by_program', 'events_statements_summary_by_thread_by_event_name', 'events_statements_summary_by_user_by_event_name', 'events_statements_summary_global_by_event_name', 'events_transactions_current', 'events_transactions_history', 'events_transactions_history_long', 'events_transactions_summary_by_account_by_event_name', 'events_transactions_summary_by_host_by_event_name', 'events_transactions_summary_by_thread_by_event_name', 'events_transactions_summary_by_user_by_event_name', 'events_transactions_summary_global_by_event_name', 'events_waits_current', 'events_waits_history', 'events_waits_history_long', 'events_waits_summary_by_account_by_event_name', 'events_waits_summary_by_host_by_event_name', 'events_waits_summary_by_instance', 'events_waits_summary_by_thread_by_event_name', 'events_waits_summary_by_user_by_event_name', 'events_waits_summary_global_by_event_name', 'file_instances', 'file_summary_by_event_name', 'file_summary_by_instance', 'global_status', 'global_variables', 'host_cache', 'hosts', 'keyring_keys', 'log_status', 'memory_summary_by_account_by_event_name', 'memory_summary_by_host_by_event_name', 'memory_summary_by_thread_by_event_name', 'memory_summary_by_user_by_event_name', 'memory_summary_global_by_event_name', 'metadata_locks', 'mutex_instances', 'objects_summary_global_by_type', 'performance_timers', 'persisted_variables', 'prepared_statements_instances', 'processlist', 'replication_applier_configuration', 'replication_applier_filters', 'replication_applier_global_filters', 'replication_applier_status', 'replication_applier_status_by_coordinator', 'replication_applier_status_by_worker', 'replication_asynchronous_connection_failover', 'replication_connection_configuration', 'replication_connection_status', 'replication_group_member_stats', 'replication_group_members', 'rwlock_instances', 'session_account_connect_attrs', 'session_connect_attrs', 'session_status', 'session_variables', 'setup_actors', 'setup_consumers', 'setup_instruments', 'setup_objects', 'setup_threads', 'socket_instances', 'socket_summary_by_event_name', 'socket_summary_by_instance', 'status_by_account', 'status_by_host', 'status_by_thread', 'status_by_user', 'table_handles', 'table_io_waits_summary_by_index_usage', 'table_io_waits_summary_by_table', 'table_lock_waits_summary_by_table', 'threads', 'tls_channel_status', 'user_defined_functions', 'user_variables_by_thread', 'users', 'variables_by_thread', 'variables_info']\n",
      "SAKILA\n",
      "['actor', 'address', 'category', 'city', 'country', 'customer', 'film', 'film_actor', 'film_category', 'film_text', 'inventory', 'language', 'payment', 'rental', 'staff', 'store']\n",
      "SYS\n",
      "['sys_config']\n",
      "WORLD\n",
      "['city', 'country', 'countrylanguage']\n"
     ]
    }
   ],
   "source": [
    "# specified database\n",
    "for db in dbs:\n",
    "    print(db[0].upper())\n",
    "    c.execute(f'''select table_name from (select table_schema as database_name,\n",
    "        table_name\n",
    "    from information_schema.tables\n",
    "    where table_type = 'BASE TABLE'\n",
    "            and table_schema = '{db[0]}' -- enter your database name here\n",
    "    order by database_name, table_name) t1;''')\n",
    "    tables = []\n",
    "    row = c.fetchone()\n",
    "    while row:\n",
    "        tables.append(row[0])\n",
    "        row = c.fetchone()\n",
    "    print(tables)"
   ]
  },
  {
   "cell_type": "code",
   "execution_count": null,
   "metadata": {},
   "outputs": [],
   "source": []
  }
 ],
 "metadata": {
  "kernelspec": {
   "display_name": "Python 3",
   "language": "python",
   "name": "python3"
  },
  "language_info": {
   "codemirror_mode": {
    "name": "ipython",
    "version": 3
   },
   "file_extension": ".py",
   "mimetype": "text/x-python",
   "name": "python",
   "nbconvert_exporter": "python",
   "pygments_lexer": "ipython3",
   "version": "3.8.6"
  }
 },
 "nbformat": 4,
 "nbformat_minor": 4
}
