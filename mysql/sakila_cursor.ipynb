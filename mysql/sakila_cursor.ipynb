{
 "cells": [
  {
   "cell_type": "code",
   "execution_count": 1,
   "metadata": {},
   "outputs": [
    {
     "name": "stdout",
     "output_type": "stream",
     "text": [
      "{'actor_id': 1, 'first_name': 'PENELOPE', 'last_name': 'GUINESS', 'last_update': datetime.datetime(2006, 2, 15, 4, 34, 33)}\n",
      "PENELOPE\n",
      "actor_id  =  1\n",
      "first_name  =  PENELOPE\n",
      "last_name  =  GUINESS\n",
      "last_update  =  2006-02-15 04:34:33\n"
     ]
    }
   ],
   "source": [
    "import MySQLdb\n",
    "\n",
    "# Open database connection\n",
    "db = MySQLdb.connect(\"localhost\",\"root\",\"admin\",\"sakila\")\n",
    "\n",
    "# prepare a cursor object using cursor() method\n",
    "cursor = db.cursor()\n",
    "\n",
    "# execute SQL query using execute() method.\n",
    "cursor.execute(\"SELECT * from actor\")\n",
    "\n",
    "# Get the fields name (only once!)\n",
    "field_name = [field[0] for field in cursor.description]\n",
    "\n",
    "# Fetch a single row using fetchone() method.\n",
    "values = cursor.fetchone()\n",
    "\n",
    "# create the row dictionary to be able to call row['login']\n",
    "row = dict(zip(field_name, values))\n",
    "\n",
    "# print the dictionary\n",
    "print(row)\n",
    "\n",
    "# print specific field\n",
    "print(row['first_name'])\n",
    "\n",
    "# print all field\n",
    "for key in row:\n",
    "    print(key,\" = \",row[key])\n",
    "\n",
    "# close database connection\n",
    "db.close()"
   ]
  },
  {
   "cell_type": "code",
   "execution_count": null,
   "metadata": {},
   "outputs": [],
   "source": []
  }
 ],
 "metadata": {
  "kernelspec": {
   "display_name": "Python 3",
   "language": "python",
   "name": "python3"
  },
  "language_info": {
   "codemirror_mode": {
    "name": "ipython",
    "version": 3
   },
   "file_extension": ".py",
   "mimetype": "text/x-python",
   "name": "python",
   "nbconvert_exporter": "python",
   "pygments_lexer": "ipython3",
   "version": "3.8.6"
  }
 },
 "nbformat": 4,
 "nbformat_minor": 4
}
