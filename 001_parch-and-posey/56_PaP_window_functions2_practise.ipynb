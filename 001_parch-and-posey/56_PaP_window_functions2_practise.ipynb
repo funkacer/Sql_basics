{
 "cells": [
  {
   "cell_type": "code",
   "execution_count": 1,
   "metadata": {},
   "outputs": [],
   "source": [
    "import sqlite3\n",
    "import pandas as pd"
   ]
  },
  {
   "cell_type": "code",
   "execution_count": 2,
   "metadata": {},
   "outputs": [],
   "source": [
    "pd.options.display.max_columns = None\n",
    "#pd.options.display.max_rows = None"
   ]
  },
  {
   "cell_type": "code",
   "execution_count": 3,
   "metadata": {},
   "outputs": [],
   "source": [
    "conn = sqlite3.connect('parch-and-posey.db')"
   ]
  },
  {
   "cell_type": "code",
   "execution_count": 4,
   "metadata": {},
   "outputs": [],
   "source": [
    "cursor = conn.cursor()\n",
    "cursor.execute('''\n",
    "select * from sqlite_master where type = \"table\";\n",
    "''')\n",
    "columns = [col[0] for col in cursor.description]\n",
    "data = cursor.fetchall()\n",
    "cursor.close()"
   ]
  },
  {
   "cell_type": "code",
   "execution_count": 5,
   "metadata": {},
   "outputs": [
    {
     "data": {
      "text/html": [
       "<div>\n",
       "<style scoped>\n",
       "    .dataframe tbody tr th:only-of-type {\n",
       "        vertical-align: middle;\n",
       "    }\n",
       "\n",
       "    .dataframe tbody tr th {\n",
       "        vertical-align: top;\n",
       "    }\n",
       "\n",
       "    .dataframe thead th {\n",
       "        text-align: right;\n",
       "    }\n",
       "</style>\n",
       "<table border=\"1\" class=\"dataframe\">\n",
       "  <thead>\n",
       "    <tr style=\"text-align: right;\">\n",
       "      <th></th>\n",
       "      <th>type</th>\n",
       "      <th>name</th>\n",
       "      <th>tbl_name</th>\n",
       "      <th>rootpage</th>\n",
       "      <th>sql</th>\n",
       "    </tr>\n",
       "  </thead>\n",
       "  <tbody>\n",
       "    <tr>\n",
       "      <th>0</th>\n",
       "      <td>table</td>\n",
       "      <td>web_events</td>\n",
       "      <td>web_events</td>\n",
       "      <td>2</td>\n",
       "      <td>CREATE TABLE web_events (\\tid integer,\\taccoun...</td>\n",
       "    </tr>\n",
       "    <tr>\n",
       "      <th>1</th>\n",
       "      <td>table</td>\n",
       "      <td>sales_reps</td>\n",
       "      <td>sales_reps</td>\n",
       "      <td>7</td>\n",
       "      <td>CREATE TABLE sales_reps (\\tid integer,\\tname b...</td>\n",
       "    </tr>\n",
       "    <tr>\n",
       "      <th>2</th>\n",
       "      <td>table</td>\n",
       "      <td>region</td>\n",
       "      <td>region</td>\n",
       "      <td>222</td>\n",
       "      <td>CREATE TABLE region (\\tid integer,\\tname bpchar)</td>\n",
       "    </tr>\n",
       "    <tr>\n",
       "      <th>3</th>\n",
       "      <td>table</td>\n",
       "      <td>orders</td>\n",
       "      <td>orders</td>\n",
       "      <td>223</td>\n",
       "      <td>CREATE TABLE orders (\\tid integer,\\taccount_id...</td>\n",
       "    </tr>\n",
       "    <tr>\n",
       "      <th>4</th>\n",
       "      <td>table</td>\n",
       "      <td>accounts</td>\n",
       "      <td>accounts</td>\n",
       "      <td>583</td>\n",
       "      <td>CREATE TABLE accounts (\\tid integer,\\tname bpc...</td>\n",
       "    </tr>\n",
       "  </tbody>\n",
       "</table>\n",
       "</div>"
      ],
      "text/plain": [
       "    type        name    tbl_name  rootpage  \\\n",
       "0  table  web_events  web_events         2   \n",
       "1  table  sales_reps  sales_reps         7   \n",
       "2  table      region      region       222   \n",
       "3  table      orders      orders       223   \n",
       "4  table    accounts    accounts       583   \n",
       "\n",
       "                                                 sql  \n",
       "0  CREATE TABLE web_events (\\tid integer,\\taccoun...  \n",
       "1  CREATE TABLE sales_reps (\\tid integer,\\tname b...  \n",
       "2   CREATE TABLE region (\\tid integer,\\tname bpchar)  \n",
       "3  CREATE TABLE orders (\\tid integer,\\taccount_id...  \n",
       "4  CREATE TABLE accounts (\\tid integer,\\tname bpc...  "
      ]
     },
     "execution_count": 5,
     "metadata": {},
     "output_type": "execute_result"
    }
   ],
   "source": [
    "pd.DataFrame(data, columns=columns)"
   ]
  },
  {
   "cell_type": "markdown",
   "metadata": {},
   "source": [
    "Task 1:\n",
    "\n",
    "# Creating a Partitioned Running Total Using Window Functions\n",
    "\n",
    "Now, modify your query from the previous quiz to include partitions. Still create a running total of standard_amt_usd (in the orders table) over order time, but this time, date truncate occurred_at by year and partition by that same year-truncated occurred_at variable. Your final table should have three columns: One with the amount being added for each row, one for the truncated date, and a final column with the running total within each year."
   ]
  },
  {
   "cell_type": "code",
   "execution_count": 15,
   "metadata": {},
   "outputs": [
    {
     "data": {
      "text/html": [
       "<div>\n",
       "<style scoped>\n",
       "    .dataframe tbody tr th:only-of-type {\n",
       "        vertical-align: middle;\n",
       "    }\n",
       "\n",
       "    .dataframe tbody tr th {\n",
       "        vertical-align: top;\n",
       "    }\n",
       "\n",
       "    .dataframe thead th {\n",
       "        text-align: right;\n",
       "    }\n",
       "</style>\n",
       "<table border=\"1\" class=\"dataframe\">\n",
       "  <thead>\n",
       "    <tr style=\"text-align: right;\">\n",
       "      <th></th>\n",
       "      <th>standard_amt_usd</th>\n",
       "      <th>year</th>\n",
       "      <th>running_total</th>\n",
       "    </tr>\n",
       "  </thead>\n",
       "  <tbody>\n",
       "    <tr>\n",
       "      <th>0</th>\n",
       "      <td>0.00</td>\n",
       "      <td>2013</td>\n",
       "      <td>0.00</td>\n",
       "    </tr>\n",
       "    <tr>\n",
       "      <th>1</th>\n",
       "      <td>2445.10</td>\n",
       "      <td>2013</td>\n",
       "      <td>2445.10</td>\n",
       "    </tr>\n",
       "    <tr>\n",
       "      <th>2</th>\n",
       "      <td>2634.72</td>\n",
       "      <td>2013</td>\n",
       "      <td>5079.82</td>\n",
       "    </tr>\n",
       "    <tr>\n",
       "      <th>3</th>\n",
       "      <td>0.00</td>\n",
       "      <td>2013</td>\n",
       "      <td>5079.82</td>\n",
       "    </tr>\n",
       "    <tr>\n",
       "      <th>4</th>\n",
       "      <td>2455.08</td>\n",
       "      <td>2013</td>\n",
       "      <td>7534.90</td>\n",
       "    </tr>\n",
       "    <tr>\n",
       "      <th>...</th>\n",
       "      <td>...</td>\n",
       "      <td>...</td>\n",
       "      <td>...</td>\n",
       "    </tr>\n",
       "    <tr>\n",
       "      <th>98</th>\n",
       "      <td>2420.15</td>\n",
       "      <td>2013</td>\n",
       "      <td>132504.46</td>\n",
       "    </tr>\n",
       "    <tr>\n",
       "      <th>99</th>\n",
       "      <td>2569.85</td>\n",
       "      <td>2014</td>\n",
       "      <td>2569.85</td>\n",
       "    </tr>\n",
       "    <tr>\n",
       "      <th>100</th>\n",
       "      <td>0.00</td>\n",
       "      <td>2014</td>\n",
       "      <td>2569.85</td>\n",
       "    </tr>\n",
       "    <tr>\n",
       "      <th>101</th>\n",
       "      <td>184.63</td>\n",
       "      <td>2014</td>\n",
       "      <td>2754.48</td>\n",
       "    </tr>\n",
       "    <tr>\n",
       "      <th>102</th>\n",
       "      <td>1362.27</td>\n",
       "      <td>2014</td>\n",
       "      <td>4116.75</td>\n",
       "    </tr>\n",
       "  </tbody>\n",
       "</table>\n",
       "<p>103 rows × 3 columns</p>\n",
       "</div>"
      ],
      "text/plain": [
       "     standard_amt_usd  year  running_total\n",
       "0                0.00  2013           0.00\n",
       "1             2445.10  2013        2445.10\n",
       "2             2634.72  2013        5079.82\n",
       "3                0.00  2013        5079.82\n",
       "4             2455.08  2013        7534.90\n",
       "..                ...   ...            ...\n",
       "98            2420.15  2013      132504.46\n",
       "99            2569.85  2014        2569.85\n",
       "100              0.00  2014        2569.85\n",
       "101            184.63  2014        2754.48\n",
       "102           1362.27  2014        4116.75\n",
       "\n",
       "[103 rows x 3 columns]"
      ]
     },
     "execution_count": 15,
     "metadata": {},
     "output_type": "execute_result"
    }
   ],
   "source": [
    "# sqlite version\n",
    "\n",
    "pd.read_sql_query(sql='''\n",
    "SELECT standard_amt_usd, strftime('%Y', occurred_at) year, SUM(standard_amt_usd) OVER (PARTITION BY strftime('%Y', occurred_at) ORDER BY occurred_at) running_total\n",
    "FROM  orders;\n",
    "''', con=conn)[:103]"
   ]
  },
  {
   "cell_type": "markdown",
   "metadata": {},
   "source": [
    "Solution:\n",
    "\n",
    "SELECT standard_amt_usd,\n",
    "       DATE_TRUNC('year', occurred_at) as year,\n",
    "       SUM(standard_amt_usd) OVER (PARTITION BY DATE_TRUNC('year', occurred_at) ORDER BY occurred_at) AS running_total\n",
    "FROM orders"
   ]
  },
  {
   "cell_type": "markdown",
   "metadata": {},
   "source": [
    "If you'd like another example of partitioning, check out the top answer from this Stack Overflow post: “Partition By” Keyword\n",
    "https://stackoverflow.com/questions/561836/oracle-partition-by-keyword"
   ]
  },
  {
   "cell_type": "code",
   "execution_count": null,
   "metadata": {},
   "outputs": [],
   "source": []
  }
 ],
 "metadata": {
  "kernelspec": {
   "display_name": "Python 3",
   "language": "python",
   "name": "python3"
  },
  "language_info": {
   "codemirror_mode": {
    "name": "ipython",
    "version": 3
   },
   "file_extension": ".py",
   "mimetype": "text/x-python",
   "name": "python",
   "nbconvert_exporter": "python",
   "pygments_lexer": "ipython3",
   "version": "3.8.6"
  }
 },
 "nbformat": 4,
 "nbformat_minor": 4
}
