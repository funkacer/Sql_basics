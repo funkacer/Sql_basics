{
 "cells": [
  {
   "cell_type": "code",
   "execution_count": 1,
   "metadata": {},
   "outputs": [
    {
     "name": "stdout",
     "output_type": "stream",
     "text": [
      "Object `? nevím jak funguje pro sqlite3, všude jsou příklady se sqlite3.connect` not found.\n"
     ]
    }
   ],
   "source": [
    "??? nevím jak funguje pro sqlite3, všude jsou příklady se sqlite3.connect"
   ]
  },
  {
   "cell_type": "code",
   "execution_count": 2,
   "metadata": {},
   "outputs": [],
   "source": [
    "import sqlite3\n",
    "import pandas as pd"
   ]
  },
  {
   "cell_type": "code",
   "execution_count": 3,
   "metadata": {},
   "outputs": [],
   "source": [
    "conn =sqlite3.connect('parch-and-posey.db')"
   ]
  },
  {
   "cell_type": "code",
   "execution_count": 4,
   "metadata": {},
   "outputs": [
    {
     "data": {
      "text/plain": [
       "'\\nCREATE TABLE web_events (\\n    id integer,\\n    account_id integer,\\n    occurred_at timestamp,\\n    channel bpchar\\n);'"
      ]
     },
     "execution_count": 4,
     "metadata": {},
     "output_type": "execute_result"
    }
   ],
   "source": [
    "'''\n",
    "CREATE TABLE web_events (\n",
    "    id integer,\n",
    "    account_id integer,\n",
    "    occurred_at timestamp,\n",
    "    channel bpchar\n",
    ");'''"
   ]
  },
  {
   "cell_type": "code",
   "execution_count": 5,
   "metadata": {},
   "outputs": [],
   "source": [
    "cursor = conn.cursor()\n",
    "try:\n",
    "    cursor.execute('''DROP TABLE web_events;''')\n",
    "except Exception as e:\n",
    "    print(e)\n",
    "cursor.execute('''CREATE TABLE web_events (\n",
    "    id integer,\n",
    "    account_id integer,\n",
    "    occurred_at timestamp,\n",
    "    channel bpchar);''')\n",
    "cursor.close()"
   ]
  },
  {
   "cell_type": "code",
   "execution_count": 6,
   "metadata": {},
   "outputs": [
    {
     "data": {
      "text/plain": [
       "'\\nCREATE TABLE sales_reps (\\n    id integer,\\n    name bpchar,\\n    region_id integer\\n);'"
      ]
     },
     "execution_count": 6,
     "metadata": {},
     "output_type": "execute_result"
    }
   ],
   "source": [
    "'''\n",
    "CREATE TABLE sales_reps (\n",
    "    id integer,\n",
    "    name bpchar,\n",
    "    region_id integer\n",
    ");'''"
   ]
  },
  {
   "cell_type": "code",
   "execution_count": 7,
   "metadata": {},
   "outputs": [],
   "source": [
    "cursor = conn.cursor()\n",
    "try:\n",
    "    cursor.execute('''DROP TABLE sales_reps;''')\n",
    "except Exception as e:\n",
    "    print(e)\n",
    "cursor.execute('''CREATE TABLE sales_reps (\n",
    "    id integer,\n",
    "    name bpchar,\n",
    "    region_id integer\n",
    ");''')\n",
    "cursor.close()"
   ]
  },
  {
   "cell_type": "code",
   "execution_count": 8,
   "metadata": {},
   "outputs": [
    {
     "data": {
      "text/plain": [
       "'\\nCREATE TABLE region (\\n    id integer,\\n    name bpchar\\n);\\n'"
      ]
     },
     "execution_count": 8,
     "metadata": {},
     "output_type": "execute_result"
    }
   ],
   "source": [
    "'''\n",
    "CREATE TABLE region (\n",
    "    id integer,\n",
    "    name bpchar\n",
    ");\n",
    "'''"
   ]
  },
  {
   "cell_type": "code",
   "execution_count": 9,
   "metadata": {},
   "outputs": [],
   "source": [
    "cursor = conn.cursor()\n",
    "try:\n",
    "    cursor.execute('''DROP TABLE region;''')\n",
    "except Exception as e:\n",
    "    print(e)\n",
    "cursor.execute('''CREATE TABLE region (\n",
    "    id integer,\n",
    "    name bpchar\n",
    ");''')\n",
    "cursor.close()"
   ]
  },
  {
   "cell_type": "code",
   "execution_count": 10,
   "metadata": {},
   "outputs": [
    {
     "data": {
      "text/plain": [
       "'\\nCREATE TABLE orders (\\n    id integer,\\n    account_id integer,\\n    occurred_at timestamp,\\n    standard_qty integer,\\n    gloss_qty integer,\\n    poster_qty integer,\\n    total integer,\\n    standard_amt_usd numeric(10,2),\\n    gloss_amt_usd numeric(10,2),\\n    poster_amt_usd numeric(10,2),\\n    total_amt_usd numeric(10,2)\\n);\\n'"
      ]
     },
     "execution_count": 10,
     "metadata": {},
     "output_type": "execute_result"
    }
   ],
   "source": [
    "'''\n",
    "CREATE TABLE orders (\n",
    "    id integer,\n",
    "    account_id integer,\n",
    "    occurred_at timestamp,\n",
    "    standard_qty integer,\n",
    "    gloss_qty integer,\n",
    "    poster_qty integer,\n",
    "    total integer,\n",
    "    standard_amt_usd numeric(10,2),\n",
    "    gloss_amt_usd numeric(10,2),\n",
    "    poster_amt_usd numeric(10,2),\n",
    "    total_amt_usd numeric(10,2)\n",
    ");\n",
    "'''"
   ]
  },
  {
   "cell_type": "code",
   "execution_count": 11,
   "metadata": {},
   "outputs": [],
   "source": [
    "cursor = conn.cursor()\n",
    "try:\n",
    "    cursor.execute('''DROP TABLE orders;''')\n",
    "except Exception as e:\n",
    "    print(e)\n",
    "cursor.execute('''CREATE TABLE orders (\n",
    "    id integer,\n",
    "    account_id integer,\n",
    "    occurred_at timestamp,\n",
    "    standard_qty integer,\n",
    "    gloss_qty integer,\n",
    "    poster_qty integer,\n",
    "    total integer,\n",
    "    standard_amt_usd numeric(10,2),\n",
    "    gloss_amt_usd numeric(10,2),\n",
    "    poster_amt_usd numeric(10,2),\n",
    "    total_amt_usd numeric(10,2)\n",
    ");''')\n",
    "cursor.close()"
   ]
  },
  {
   "cell_type": "code",
   "execution_count": 12,
   "metadata": {},
   "outputs": [
    {
     "data": {
      "text/plain": [
       "'\\nCREATE TABLE accounts (\\n    id integer,\\n    name bpchar,\\n    website bpchar,\\n    lat numeric(11,8),\\n    long numeric(11,8),\\n    primary_poc bpchar,\\n    sales_rep_id integer\\n);'"
      ]
     },
     "execution_count": 12,
     "metadata": {},
     "output_type": "execute_result"
    }
   ],
   "source": [
    "'''\n",
    "CREATE TABLE accounts (\n",
    "    id integer,\n",
    "    name bpchar,\n",
    "    website bpchar,\n",
    "    lat numeric(11,8),\n",
    "    long numeric(11,8),\n",
    "    primary_poc bpchar,\n",
    "    sales_rep_id integer\n",
    ");'''"
   ]
  },
  {
   "cell_type": "code",
   "execution_count": 13,
   "metadata": {},
   "outputs": [],
   "source": [
    "cursor = conn.cursor()\n",
    "try:\n",
    "    cursor.execute('''DROP TABLE accounts;''')\n",
    "except Exception as e:\n",
    "    print(e)\n",
    "cursor.execute('''CREATE TABLE accounts (\n",
    "    id integer,\n",
    "    name bpchar,\n",
    "    website bpchar,\n",
    "    lat numeric(11,8),\n",
    "    long numeric(11,8),\n",
    "    primary_poc bpchar,\n",
    "    sales_rep_id integer\n",
    ");''')\n",
    "cursor.close()"
   ]
  },
  {
   "cell_type": "code",
   "execution_count": 21,
   "metadata": {},
   "outputs": [
    {
     "data": {
      "text/plain": [
       "<sqlite3.Cursor at 0x1c7fb9de500>"
      ]
     },
     "execution_count": 21,
     "metadata": {},
     "output_type": "execute_result"
    }
   ],
   "source": [
    "cursor = conn.cursor()\n",
    "cursor.execute(\"INSERT INTO web_events VALUES (1,1001,'2015-10-06 17:13:58','direct');\")"
   ]
  },
  {
   "cell_type": "code",
   "execution_count": 22,
   "metadata": {},
   "outputs": [
    {
     "data": {
      "text/plain": [
       "[(1, 1001, '2015-10-06 17:13:58', 'direct'),\n",
       " (1, 1001, '2015-10-06 17:13:58', 'direct'),\n",
       " (1, 1001, '2015-10-06 17:13:58', 'direct')]"
      ]
     },
     "execution_count": 22,
     "metadata": {},
     "output_type": "execute_result"
    }
   ],
   "source": [
    "cursor.execute(\"select * from web_events\")\n",
    "cursor.fetchall()"
   ]
  },
  {
   "cell_type": "code",
   "execution_count": 23,
   "metadata": {},
   "outputs": [
    {
     "data": {
      "text/plain": [
       "[(1, 1001, '2015-10-06 17:13:58', 'direct'),\n",
       " (1, 1001, '2015-10-06 17:13:58', 'direct'),\n",
       " (1, 1001, '2015-10-06 17:13:58', 'direct')]"
      ]
     },
     "execution_count": 23,
     "metadata": {},
     "output_type": "execute_result"
    }
   ],
   "source": [
    "conn.commit()\n",
    "cursor.execute(\"select * from web_events\")\n",
    "cursor.fetchall()"
   ]
  },
  {
   "cell_type": "code",
   "execution_count": 24,
   "metadata": {},
   "outputs": [],
   "source": [
    "cursor.close()"
   ]
  },
  {
   "cell_type": "code",
   "execution_count": null,
   "metadata": {},
   "outputs": [],
   "source": []
  }
 ],
 "metadata": {
  "kernelspec": {
   "display_name": "Python 3",
   "language": "python",
   "name": "python3"
  },
  "language_info": {
   "codemirror_mode": {
    "name": "ipython",
    "version": 3
   },
   "file_extension": ".py",
   "mimetype": "text/x-python",
   "name": "python",
   "nbconvert_exporter": "python",
   "pygments_lexer": "ipython3",
   "version": "3.8.6"
  }
 },
 "nbformat": 4,
 "nbformat_minor": 4
}
