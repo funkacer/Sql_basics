{
 "cells": [
  {
   "cell_type": "code",
   "execution_count": 1,
   "metadata": {},
   "outputs": [],
   "source": [
    "import pandas as pd\n",
    "from sqlalchemy import create_engine"
   ]
  },
  {
   "cell_type": "code",
   "execution_count": 2,
   "metadata": {},
   "outputs": [],
   "source": [
    "conn = create_engine('sqlite:///Weather_db.db')"
   ]
  },
  {
   "cell_type": "code",
   "execution_count": 3,
   "metadata": {},
   "outputs": [],
   "source": [
    "condition_20200118_df = pd.read_sql_table(con = conn, table_name = '20200118_condition')\n",
    "forecast_20200118_df = pd.read_sql_table(con = conn, table_name = '20200118_forecast')\n",
    "condition_20200621_df = pd.read_sql_table(con = conn, table_name = '20200621_condition')\n",
    "forecast_20200621_df = pd.read_sql_table(con = conn, table_name = '20200621_forecast')"
   ]
  },
  {
   "cell_type": "code",
   "execution_count": 4,
   "metadata": {},
   "outputs": [
    {
     "data": {
      "text/plain": [
       "_id              int64\n",
       "city            object\n",
       "country         object\n",
       "region          object\n",
       "chill            int64\n",
       "direction        int64\n",
       "speed          float64\n",
       "sunrise         object\n",
       "sunset          object\n",
       "humidity         int64\n",
       "pressure       float64\n",
       "rising           int64\n",
       "visibility     float64\n",
       "pubdate         object\n",
       "text            object\n",
       "code             int64\n",
       "temperature      int64\n",
       "creatat         object\n",
       "changeat        object\n",
       "dtype: object"
      ]
     },
     "execution_count": 4,
     "metadata": {},
     "output_type": "execute_result"
    }
   ],
   "source": [
    "condition_20200118_df.dtypes"
   ]
  },
  {
   "cell_type": "code",
   "execution_count": 5,
   "metadata": {},
   "outputs": [
    {
     "data": {
      "text/plain": [
       "_id              int64\n",
       "city            object\n",
       "country         object\n",
       "region          object\n",
       "chill            int64\n",
       "direction        int64\n",
       "speed          float64\n",
       "sunrise         object\n",
       "sunset          object\n",
       "humidity         int64\n",
       "pressure       float64\n",
       "rising           int64\n",
       "visibility     float64\n",
       "pubdate         object\n",
       "text            object\n",
       "code             int64\n",
       "temperature      int64\n",
       "creatat         object\n",
       "changeat        object\n",
       "dtype: object"
      ]
     },
     "execution_count": 5,
     "metadata": {},
     "output_type": "execute_result"
    }
   ],
   "source": [
    "condition_20200621_df.dtypes"
   ]
  },
  {
   "cell_type": "code",
   "execution_count": 6,
   "metadata": {},
   "outputs": [
    {
     "data": {
      "text/plain": [
       "_id          int64\n",
       "condate     object\n",
       "day         object\n",
       "date        object\n",
       "code         int64\n",
       "low          int64\n",
       "high         int64\n",
       "text        object\n",
       "creatat     object\n",
       "changeat    object\n",
       "dtype: object"
      ]
     },
     "execution_count": 6,
     "metadata": {},
     "output_type": "execute_result"
    }
   ],
   "source": [
    "forecast_20200118_df.dtypes"
   ]
  },
  {
   "cell_type": "code",
   "execution_count": 7,
   "metadata": {},
   "outputs": [
    {
     "data": {
      "text/plain": [
       "_id          int64\n",
       "condate     object\n",
       "day         object\n",
       "date        object\n",
       "code         int64\n",
       "low          int64\n",
       "high         int64\n",
       "text        object\n",
       "creatat     object\n",
       "changeat    object\n",
       "dtype: object"
      ]
     },
     "execution_count": 7,
     "metadata": {},
     "output_type": "execute_result"
    }
   ],
   "source": [
    "forecast_20200621_df.dtypes"
   ]
  },
  {
   "cell_type": "code",
   "execution_count": null,
   "metadata": {},
   "outputs": [],
   "source": []
  }
 ],
 "metadata": {
  "kernelspec": {
   "display_name": "Python 3",
   "language": "python",
   "name": "python3"
  },
  "language_info": {
   "codemirror_mode": {
    "name": "ipython",
    "version": 3
   },
   "file_extension": ".py",
   "mimetype": "text/x-python",
   "name": "python",
   "nbconvert_exporter": "python",
   "pygments_lexer": "ipython3",
   "version": "3.7.7"
  }
 },
 "nbformat": 4,
 "nbformat_minor": 4
}
