{
 "cells": [
  {
   "cell_type": "code",
   "execution_count": 1,
   "metadata": {},
   "outputs": [],
   "source": [
    "import sqlite3"
   ]
  },
  {
   "cell_type": "code",
   "execution_count": 2,
   "metadata": {},
   "outputs": [],
   "source": [
    "conn= sqlite3.connect(\":memory:\")\n",
    "c = conn.cursor()"
   ]
  },
  {
   "cell_type": "code",
   "execution_count": 3,
   "metadata": {},
   "outputs": [],
   "source": [
    "with conn:\n",
    "    c.execute(\"create table moje1 (id integer primary key autoincrement, value real, type text)\")"
   ]
  },
  {
   "cell_type": "code",
   "execution_count": 4,
   "metadata": {},
   "outputs": [],
   "source": [
    "with conn:\n",
    "    c.execute(\"insert into moje1 (id , value, type) values (null, 100, 'ahoj')\")"
   ]
  },
  {
   "cell_type": "code",
   "execution_count": 5,
   "metadata": {},
   "outputs": [],
   "source": [
    "with conn:\n",
    "    c.execute(\"insert into moje1 values (:id, :value, :type)\", (None, 200, 'čus'))"
   ]
  },
  {
   "cell_type": "code",
   "execution_count": 6,
   "metadata": {},
   "outputs": [],
   "source": [
    "with conn:\n",
    "    c.execute(\"insert into moje1 values (:id, :value, :type)\", {'id':None, 'value':300, 'type':'čus2'})"
   ]
  },
  {
   "cell_type": "code",
   "execution_count": 7,
   "metadata": {},
   "outputs": [],
   "source": [
    "with conn:\n",
    "    c.execute(\"insert into moje1 values (?, ?, ?)\", (None, 200, 'čus'))"
   ]
  },
  {
   "cell_type": "code",
   "execution_count": 8,
   "metadata": {},
   "outputs": [],
   "source": [
    "with conn:\n",
    "    # nejde\n",
    "    #c.execute(\"insert into moje1 values (?, ?, ?)\", {'id':None, 'value':300, 'type':'čus2'})\n",
    "    pass"
   ]
  },
  {
   "cell_type": "code",
   "execution_count": 9,
   "metadata": {},
   "outputs": [
    {
     "name": "stdout",
     "output_type": "stream",
     "text": [
      "[('table', 'moje1', 'moje1', 2, 'CREATE TABLE moje1 (id integer primary key autoincrement, value real, type text)'), ('table', 'sqlite_sequence', 'sqlite_sequence', 3, 'CREATE TABLE sqlite_sequence(name,seq)')]\n"
     ]
    }
   ],
   "source": [
    "with conn:\n",
    "    c.execute(\"select * from sqlite_master where type = 'table'\")\n",
    "    data = c.fetchall()\n",
    "    print(data)"
   ]
  },
  {
   "cell_type": "code",
   "execution_count": 10,
   "metadata": {},
   "outputs": [],
   "source": [
    "data = []\n",
    "data.append((None,400,'Čus3'))\n",
    "data.append((None,400.5,'Čus4'))"
   ]
  },
  {
   "cell_type": "code",
   "execution_count": 11,
   "metadata": {},
   "outputs": [],
   "source": [
    "with conn:\n",
    "    c.executemany(\"insert into moje1 values (?,?,?)\", data)"
   ]
  },
  {
   "cell_type": "code",
   "execution_count": 12,
   "metadata": {},
   "outputs": [],
   "source": [
    "with conn:\n",
    "    c.executemany(\"insert into moje1 values (:id, :value, :type)\", data)"
   ]
  },
  {
   "cell_type": "code",
   "execution_count": 13,
   "metadata": {},
   "outputs": [],
   "source": [
    "data = []\n",
    "data.append({'id':None, 'value':300, 'type':'čus2'})\n",
    "data.append({'id':None, 'value':300, 'type':'čus2'})"
   ]
  },
  {
   "cell_type": "code",
   "execution_count": 14,
   "metadata": {},
   "outputs": [],
   "source": [
    "with conn:\n",
    "    c.executemany(\"insert into moje1 values (:id, :value, :type)\", data)"
   ]
  },
  {
   "cell_type": "code",
   "execution_count": 15,
   "metadata": {},
   "outputs": [],
   "source": [
    "with conn:\n",
    "    # toto nejde\n",
    "    #c.executemany(\"insert into moje1 values (?,?,?)\", data)\n",
    "    pass"
   ]
  },
  {
   "cell_type": "code",
   "execution_count": 16,
   "metadata": {},
   "outputs": [
    {
     "name": "stdout",
     "output_type": "stream",
     "text": [
      "[(1, 100.0, 'ahoj'), (2, 200.0, 'čus'), (3, 300.0, 'čus2'), (4, 200.0, 'čus'), (5, 400.0, 'Čus3'), (6, 400.5, 'Čus4'), (7, 400.0, 'Čus3'), (8, 400.5, 'Čus4'), (9, 300.0, 'čus2'), (10, 300.0, 'čus2')]\n"
     ]
    }
   ],
   "source": [
    "with conn:\n",
    "    c.execute(\"select * from moje1\")\n",
    "    data = c.fetchall()\n",
    "    print(data)"
   ]
  },
  {
   "cell_type": "code",
   "execution_count": null,
   "metadata": {},
   "outputs": [],
   "source": []
  }
 ],
 "metadata": {
  "kernelspec": {
   "display_name": "Python 3",
   "language": "python",
   "name": "python3"
  },
  "language_info": {
   "codemirror_mode": {
    "name": "ipython",
    "version": 3
   },
   "file_extension": ".py",
   "mimetype": "text/x-python",
   "name": "python",
   "nbconvert_exporter": "python",
   "pygments_lexer": "ipython3",
   "version": "3.8.6"
  }
 },
 "nbformat": 4,
 "nbformat_minor": 4
}
