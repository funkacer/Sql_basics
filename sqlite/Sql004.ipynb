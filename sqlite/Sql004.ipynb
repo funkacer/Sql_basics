{
 "cells": [
  {
   "cell_type": "code",
   "execution_count": 1,
   "metadata": {},
   "outputs": [],
   "source": [
    "import sqlite3\n",
    "import traceback"
   ]
  },
  {
   "cell_type": "code",
   "execution_count": 2,
   "metadata": {},
   "outputs": [],
   "source": [
    "conn = sqlite3.connect(\":memory:\")"
   ]
  },
  {
   "cell_type": "code",
   "execution_count": 3,
   "metadata": {},
   "outputs": [],
   "source": [
    "c = conn.cursor()"
   ]
  },
  {
   "cell_type": "code",
   "execution_count": 4,
   "metadata": {},
   "outputs": [
    {
     "name": "stdout",
     "output_type": "stream",
     "text": [
      "<class 'tuple'>\n"
     ]
    }
   ],
   "source": [
    "columns = ('id', 'value', 'type')\n",
    "print(columns.__class__)"
   ]
  },
  {
   "cell_type": "code",
   "execution_count": 5,
   "metadata": {},
   "outputs": [
    {
     "name": "stdout",
     "output_type": "stream",
     "text": [
      "[]\n"
     ]
    }
   ],
   "source": [
    "with conn:\n",
    "    c.execute(\"select * from sqlite_master where type = 'table'\")\n",
    "    data = c.fetchall()\n",
    "\n",
    "print(data)"
   ]
  },
  {
   "cell_type": "code",
   "execution_count": 6,
   "metadata": {},
   "outputs": [],
   "source": [
    "try:\n",
    "    with conn:\n",
    "        c.execute(\"drop table if exists Moje1 \")\n",
    "except Exception as e:\n",
    "    traceback.print_exc()"
   ]
  },
  {
   "cell_type": "code",
   "execution_count": 7,
   "metadata": {},
   "outputs": [],
   "source": [
    "with conn:\n",
    "    c.execute(\"create table Moje1 ({0[0]} integer primary key autoincrement, {0[1]} real, {0[2]} text)\".format(columns))"
   ]
  },
  {
   "cell_type": "code",
   "execution_count": 8,
   "metadata": {},
   "outputs": [],
   "source": [
    "insert = []\n",
    "insert.append({columns[0]:None, columns[1]:123, columns[2]:'Ahoj'})"
   ]
  },
  {
   "cell_type": "code",
   "execution_count": 9,
   "metadata": {},
   "outputs": [],
   "source": [
    "with conn:\n",
    "    c.executemany(\"insert into  Moje1 values (:{0[0]},:{0[1]},:{0[2]})\".format(columns), insert)"
   ]
  },
  {
   "cell_type": "code",
   "execution_count": 10,
   "metadata": {},
   "outputs": [
    {
     "name": "stdout",
     "output_type": "stream",
     "text": [
      "[(1, 123.0, 'Ahoj')]\n"
     ]
    }
   ],
   "source": [
    "with conn:\n",
    "    c.execute(\"select * from Moje1\")\n",
    "    data = c.fetchall()\n",
    "\n",
    "print(data)"
   ]
  },
  {
   "cell_type": "code",
   "execution_count": 11,
   "metadata": {},
   "outputs": [],
   "source": [
    "insert = [[12,\"a\"],[13,'B']]"
   ]
  },
  {
   "cell_type": "code",
   "execution_count": 12,
   "metadata": {},
   "outputs": [],
   "source": [
    "with conn:\n",
    "    c.executemany(\"insert into  Moje1 ({0[1]},{0[2]}) values (:{0[1]},:{0[2]})\".format(columns), insert)"
   ]
  },
  {
   "cell_type": "code",
   "execution_count": 13,
   "metadata": {},
   "outputs": [
    {
     "name": "stdout",
     "output_type": "stream",
     "text": [
      "[(1, 123.0, 'Ahoj'), (2, 12.0, 'a'), (3, 13.0, 'B')]\n"
     ]
    }
   ],
   "source": [
    "with conn:\n",
    "    c.execute(\"select * from Moje1\")\n",
    "    data = c.fetchall()\n",
    "\n",
    "print(data)"
   ]
  },
  {
   "cell_type": "code",
   "execution_count": 14,
   "metadata": {},
   "outputs": [],
   "source": [
    "insert = [[\"a\"],['B']]"
   ]
  },
  {
   "cell_type": "code",
   "execution_count": 15,
   "metadata": {},
   "outputs": [
    {
     "name": "stdout",
     "output_type": "stream",
     "text": [
      "insert into  Moje1 ({0[1]}) values (:{0[1]})\n"
     ]
    }
   ],
   "source": [
    "part1 = ''\n",
    "part2 = ''\n",
    "ss = [1]\n",
    "for i, s in enumerate(ss):\n",
    "    if i == 0:\n",
    "        part1 += '{{0[{}]}}'.format(str(s))\n",
    "        part2 += ':{{0[{}]}}'.format(str(s))\n",
    "    else:\n",
    "        part1 += ',{{0[{}]}}'.format(str(s))\n",
    "        part2 += ',:{{0[{}]}}'.format(str(s))\n",
    "        \n",
    "sql = 'insert into  Moje1 ({}) values ({})'.format(part1, part2)\n",
    "print(sql)"
   ]
  },
  {
   "cell_type": "code",
   "execution_count": 16,
   "metadata": {},
   "outputs": [],
   "source": [
    "with conn:\n",
    "    c.executemany(sql.format(columns), insert)"
   ]
  },
  {
   "cell_type": "code",
   "execution_count": 17,
   "metadata": {},
   "outputs": [
    {
     "name": "stdout",
     "output_type": "stream",
     "text": [
      "[(1, 123.0, 'Ahoj'), (2, 12.0, 'a'), (3, 13.0, 'B'), (4, 'a', None), (5, 'B', None)]\n"
     ]
    }
   ],
   "source": [
    "with conn:\n",
    "    c.execute(\"select * from Moje1\")\n",
    "    data = c.fetchall()\n",
    "\n",
    "print(data)"
   ]
  },
  {
   "cell_type": "code",
   "execution_count": 18,
   "metadata": {},
   "outputs": [],
   "source": [
    "# columns must be real"
   ]
  },
  {
   "cell_type": "code",
   "execution_count": 25,
   "metadata": {},
   "outputs": [
    {
     "name": "stdout",
     "output_type": "stream",
     "text": [
      "insert into  Moje1 ({0[1]},{0[2]}) values (?,?)\n"
     ]
    }
   ],
   "source": [
    "part1 = ''\n",
    "part2 = ''\n",
    "ss = [2]\n",
    "for i, s in enumerate(ss):\n",
    "    if i == 0:\n",
    "        part1 += '{{0[{}]}}'.format(str(s))\n",
    "        part2 += '?'.format(str(s))\n",
    "    else:\n",
    "        part1 += ',{{0[{}]}}'.format(str(s))\n",
    "        part2 += ',?'.format(str(s))\n",
    "        \n",
    "sql = 'insert into  Moje1 ({}) values ({})'.format(part1, part2)\n",
    "print(sql)"
   ]
  },
  {
   "cell_type": "code",
   "execution_count": 26,
   "metadata": {},
   "outputs": [
    {
     "ename": "ProgrammingError",
     "evalue": "Incorrect number of bindings supplied. The current statement uses 2, and there are 1 supplied.",
     "output_type": "error",
     "traceback": [
      "\u001b[1;31m---------------------------------------------------------------------------\u001b[0m",
      "\u001b[1;31mProgrammingError\u001b[0m                          Traceback (most recent call last)",
      "\u001b[1;32m<ipython-input-26-113a687a0160>\u001b[0m in \u001b[0;36m<module>\u001b[1;34m\u001b[0m\n\u001b[0;32m      1\u001b[0m \u001b[1;32mwith\u001b[0m \u001b[0mconn\u001b[0m\u001b[1;33m:\u001b[0m\u001b[1;33m\u001b[0m\u001b[1;33m\u001b[0m\u001b[0m\n\u001b[1;32m----> 2\u001b[1;33m     \u001b[0mc\u001b[0m\u001b[1;33m.\u001b[0m\u001b[0mexecutemany\u001b[0m\u001b[1;33m(\u001b[0m\u001b[0msql\u001b[0m\u001b[1;33m.\u001b[0m\u001b[0mformat\u001b[0m\u001b[1;33m(\u001b[0m\u001b[0mcolumns\u001b[0m\u001b[1;33m)\u001b[0m\u001b[1;33m,\u001b[0m \u001b[0minsert\u001b[0m\u001b[1;33m)\u001b[0m\u001b[1;33m\u001b[0m\u001b[1;33m\u001b[0m\u001b[0m\n\u001b[0m",
      "\u001b[1;31mProgrammingError\u001b[0m: Incorrect number of bindings supplied. The current statement uses 2, and there are 1 supplied."
     ]
    }
   ],
   "source": [
    "with conn:\n",
    "    c.executemany(sql.format(columns), insert)"
   ]
  },
  {
   "cell_type": "code",
   "execution_count": 27,
   "metadata": {},
   "outputs": [
    {
     "name": "stdout",
     "output_type": "stream",
     "text": [
      "[(1, 123.0, 'Ahoj'), (2, 12.0, 'a'), (3, 13.0, 'B'), (4, 'a', None), (5, 'B', None), (6, 'a', None), (7, 'B', None), (8, None, 'a'), (9, None, 'B')]\n"
     ]
    }
   ],
   "source": [
    "with conn:\n",
    "    c.execute(\"select * from Moje1\")\n",
    "    data = c.fetchall()\n",
    "\n",
    "print(data)"
   ]
  },
  {
   "cell_type": "code",
   "execution_count": 35,
   "metadata": {},
   "outputs": [],
   "source": [
    "insert = [[1,\"a\"],[2,'B']]"
   ]
  },
  {
   "cell_type": "code",
   "execution_count": 36,
   "metadata": {},
   "outputs": [
    {
     "name": "stdout",
     "output_type": "stream",
     "text": [
      "insert into  Moje1 ({0[1]},{0[2]}) values (?,?)\n"
     ]
    }
   ],
   "source": [
    "part1 = ''\n",
    "part2 = ''\n",
    "ss = [1,2]\n",
    "for i, s in enumerate(ss):\n",
    "    if i == 0:\n",
    "        part1 += '{{0[{}]}}'.format(str(s))\n",
    "        part2 += '?'.format(str(s))\n",
    "    else:\n",
    "        part1 += ',{{0[{}]}}'.format(str(s))\n",
    "        part2 += ',?'.format(str(s))\n",
    "        \n",
    "sql = 'insert into  Moje1 ({}) values ({})'.format(part1, part2)\n",
    "print(sql)"
   ]
  },
  {
   "cell_type": "code",
   "execution_count": 37,
   "metadata": {},
   "outputs": [],
   "source": [
    "with conn:\n",
    "    c.executemany(sql.format(columns), insert)"
   ]
  },
  {
   "cell_type": "code",
   "execution_count": 38,
   "metadata": {},
   "outputs": [
    {
     "name": "stdout",
     "output_type": "stream",
     "text": [
      "[(1, 123.0, 'Ahoj'), (2, 12.0, 'a'), (3, 13.0, 'B'), (4, 'a', None), (5, 'B', None), (6, 'a', None), (7, 'B', None), (8, None, 'a'), (9, None, 'B'), (10, 'a', '1'), (11, 'B', '2'), (12, 1.0, 'a'), (13, 2.0, 'B')]\n"
     ]
    }
   ],
   "source": [
    "with conn:\n",
    "    c.execute(\"select * from Moje1\")\n",
    "    data = c.fetchall()\n",
    "\n",
    "print(data)"
   ]
  },
  {
   "cell_type": "code",
   "execution_count": 57,
   "metadata": {},
   "outputs": [],
   "source": [
    "with conn:\n",
    "        c.execute(\"drop table if exists Moje1 \")"
   ]
  },
  {
   "cell_type": "code",
   "execution_count": 58,
   "metadata": {},
   "outputs": [],
   "source": [
    "with conn:\n",
    "    c.execute(\"create table Moje1 (id integer , value real, aaa real, bbb text, type text)\")"
   ]
  },
  {
   "cell_type": "code",
   "execution_count": 59,
   "metadata": {},
   "outputs": [
    {
     "data": {
      "text/plain": [
       "('id', 'value', 'type')"
      ]
     },
     "execution_count": 59,
     "metadata": {},
     "output_type": "execute_result"
    }
   ],
   "source": [
    "columns"
   ]
  },
  {
   "cell_type": "code",
   "execution_count": 63,
   "metadata": {},
   "outputs": [
    {
     "name": "stdout",
     "output_type": "stream",
     "text": [
      "insert into  Moje1 ({0[1]},{0[2]}) values (?,?)\n"
     ]
    }
   ],
   "source": [
    "part1 = ''\n",
    "part2 = ''\n",
    "ss = [1,2]\n",
    "for i, s in enumerate(ss):\n",
    "    if i == 0:\n",
    "        part1 += '{{0[{}]}}'.format(str(s))\n",
    "        part2 += '?'.format(str(s))\n",
    "    else:\n",
    "        part1 += ',{{0[{}]}}'.format(str(s))\n",
    "        part2 += ',?'.format(str(s))\n",
    "        \n",
    "sql = 'insert into  Moje1 ({}) values ({})'.format(part1, part2)\n",
    "print(sql)"
   ]
  },
  {
   "cell_type": "code",
   "execution_count": 64,
   "metadata": {},
   "outputs": [],
   "source": [
    "with conn:\n",
    "    c.executemany(sql.format(columns), insert)"
   ]
  },
  {
   "cell_type": "code",
   "execution_count": 65,
   "metadata": {},
   "outputs": [
    {
     "name": "stdout",
     "output_type": "stream",
     "text": [
      "[(1, None, None, None, 'a'), (2, None, None, None, 'B'), (None, 1.0, None, None, 'a'), (None, 2.0, None, None, 'B')]\n"
     ]
    }
   ],
   "source": [
    "with conn:\n",
    "    c.execute(\"select * from Moje1\")\n",
    "    data = c.fetchall()\n",
    "\n",
    "print(data)"
   ]
  },
  {
   "cell_type": "code",
   "execution_count": null,
   "metadata": {},
   "outputs": [],
   "source": []
  },
  {
   "cell_type": "code",
   "execution_count": null,
   "metadata": {},
   "outputs": [],
   "source": []
  }
 ],
 "metadata": {
  "kernelspec": {
   "display_name": "Python 3",
   "language": "python",
   "name": "python3"
  },
  "language_info": {
   "codemirror_mode": {
    "name": "ipython",
    "version": 3
   },
   "file_extension": ".py",
   "mimetype": "text/x-python",
   "name": "python",
   "nbconvert_exporter": "python",
   "pygments_lexer": "ipython3",
   "version": "3.8.6"
  }
 },
 "nbformat": 4,
 "nbformat_minor": 4
}
