{
 "cells": [
  {
   "cell_type": "code",
   "execution_count": 29,
   "metadata": {},
   "outputs": [],
   "source": [
    "import sqlite3"
   ]
  },
  {
   "cell_type": "code",
   "execution_count": 30,
   "metadata": {},
   "outputs": [],
   "source": [
    "conn = sqlite3.connect(':memory:')\n",
    "#conn = sqlite3.connect('aaa.db')"
   ]
  },
  {
   "cell_type": "code",
   "execution_count": 31,
   "metadata": {},
   "outputs": [],
   "source": [
    "c = conn.cursor()"
   ]
  },
  {
   "cell_type": "code",
   "execution_count": 32,
   "metadata": {
    "scrolled": true
   },
   "outputs": [
    {
     "name": "stdout",
     "output_type": "stream",
     "text": [
      "[]\n"
     ]
    }
   ],
   "source": [
    "with conn:\n",
    "    c.execute('select * from sqlite_master where type = \"table\"')\n",
    "    data = c.fetchall()\n",
    "    print(data)"
   ]
  },
  {
   "cell_type": "code",
   "execution_count": 79,
   "metadata": {},
   "outputs": [
    {
     "name": "stdout",
     "output_type": "stream",
     "text": [
      "[]\n"
     ]
    }
   ],
   "source": [
    "with conn:\n",
    "    c.execute('drop table Ahoj')\n",
    "    data = c.fetchall()\n",
    "    print(data)"
   ]
  },
  {
   "cell_type": "code",
   "execution_count": 80,
   "metadata": {},
   "outputs": [
    {
     "name": "stdout",
     "output_type": "stream",
     "text": [
      "[]\n"
     ]
    }
   ],
   "source": [
    "with conn:\n",
    "    c.execute('create table Ahoj (id Integer PRIMARY KEY AutoIncrement, value REAL, car Text)')\n",
    "    data = c.fetchall()\n",
    "    print(data)"
   ]
  },
  {
   "cell_type": "code",
   "execution_count": 81,
   "metadata": {},
   "outputs": [
    {
     "name": "stdout",
     "output_type": "stream",
     "text": [
      "[]\n"
     ]
    }
   ],
   "source": [
    "with conn:\n",
    "    c.execute('insert into Ahoj (id, value, car) values (Null, 1000, \"New1\")')\n",
    "    data = c.fetchall()\n",
    "    print(data)"
   ]
  },
  {
   "cell_type": "code",
   "execution_count": 82,
   "metadata": {},
   "outputs": [
    {
     "name": "stdout",
     "output_type": "stream",
     "text": [
      "[]\n"
     ]
    }
   ],
   "source": [
    "with conn:\n",
    "    c.execute('insert into Ahoj (id, value, car) values (Null, 2000, \"New2\")')\n",
    "    data = c.fetchall()\n",
    "    print(data)"
   ]
  },
  {
   "cell_type": "code",
   "execution_count": 83,
   "metadata": {},
   "outputs": [
    {
     "name": "stdout",
     "output_type": "stream",
     "text": [
      "[]\n"
     ]
    }
   ],
   "source": [
    "with conn:\n",
    "    c.execute('insert into Ahoj (id, value, car) values (Null, 3000, \"New3\")')\n",
    "    data = c.fetchall()\n",
    "    print(data)"
   ]
  },
  {
   "cell_type": "code",
   "execution_count": 84,
   "metadata": {},
   "outputs": [
    {
     "name": "stdout",
     "output_type": "stream",
     "text": [
      "[(1, 1000.0, 'New1'), (2, 2000.0, 'New2'), (3, 3000.0, 'New3')]\n"
     ]
    }
   ],
   "source": [
    "with conn:\n",
    "    c.execute('select * from Ahoj')\n",
    "    data = c.fetchall()\n",
    "    print(data)"
   ]
  },
  {
   "cell_type": "code",
   "execution_count": 85,
   "metadata": {},
   "outputs": [
    {
     "name": "stdout",
     "output_type": "stream",
     "text": [
      "[]\n"
     ]
    }
   ],
   "source": [
    "with conn:\n",
    "    c.execute('update Ahoj set car = \"Moje0\" where value between 1001 and 2999')\n",
    "    data = c.fetchall()\n",
    "    print(data)"
   ]
  },
  {
   "cell_type": "code",
   "execution_count": 86,
   "metadata": {},
   "outputs": [
    {
     "name": "stdout",
     "output_type": "stream",
     "text": [
      "[(1, 1000.0, 'New1'), (2, 2000.0, 'Moje0'), (3, 3000.0, 'New3')]\n"
     ]
    }
   ],
   "source": [
    "with conn:\n",
    "    c.execute('select * from Ahoj')\n",
    "    data = c.fetchall()\n",
    "    print(data)"
   ]
  },
  {
   "cell_type": "code",
   "execution_count": 87,
   "metadata": {},
   "outputs": [],
   "source": [
    "with conn:\n",
    "    c.execute(\"insert into Ahoj values (:id, :value, :car)\", {'id': None, 'value': 4000, 'car': 'New4'})"
   ]
  },
  {
   "cell_type": "code",
   "execution_count": 88,
   "metadata": {},
   "outputs": [
    {
     "name": "stdout",
     "output_type": "stream",
     "text": [
      "[(1, 1000.0, 'New1'), (2, 2000.0, 'Moje0'), (3, 3000.0, 'New3'), (4, 4000.0, 'New4')]\n"
     ]
    }
   ],
   "source": [
    "with conn:\n",
    "    c.execute('select * from Ahoj')\n",
    "    data = c.fetchall()\n",
    "    print(data)"
   ]
  },
  {
   "cell_type": "code",
   "execution_count": 89,
   "metadata": {},
   "outputs": [],
   "source": [
    "cars =[\n",
    "    (None, 5000, 'Moje1'),\n",
    "    (None, 6000, 'Moje2'),\n",
    "    (None, 7000, 'Moje3'),\n",
    "    (None, 10000, 'Moje4')\n",
    "]"
   ]
  },
  {
   "cell_type": "code",
   "execution_count": 90,
   "metadata": {},
   "outputs": [],
   "source": [
    "with conn:\n",
    "    c.executemany(\"insert into Ahoj values (?, ?, ?)\", cars)"
   ]
  },
  {
   "cell_type": "code",
   "execution_count": 91,
   "metadata": {},
   "outputs": [
    {
     "name": "stdout",
     "output_type": "stream",
     "text": [
      "[(1, 1000.0, 'New1'), (2, 2000.0, 'Moje0'), (3, 3000.0, 'New3'), (4, 4000.0, 'New4'), (5, 5000.0, 'Moje1'), (6, 6000.0, 'Moje2'), (7, 7000.0, 'Moje3'), (8, 10000.0, 'Moje4')]\n"
     ]
    }
   ],
   "source": [
    "with conn:\n",
    "    c.execute('select * from Ahoj')\n",
    "    data = c.fetchall()\n",
    "    print(data)"
   ]
  },
  {
   "cell_type": "code",
   "execution_count": 92,
   "metadata": {},
   "outputs": [
    {
     "name": "stdout",
     "output_type": "stream",
     "text": [
      "['id', 'value', 'car']\n",
      "[(1, 1000.0, 'New1'), (2, 2000.0, 'Moje0'), (3, 3000.0, 'New3'), (4, 4000.0, 'New4'), (5, 5000.0, 'Moje1'), (6, 6000.0, 'Moje2'), (7, 7000.0, 'Moje3'), (8, 10000.0, 'Moje4')]\n"
     ]
    }
   ],
   "source": [
    "with conn:\n",
    "    c.execute('select * from Ahoj')\n",
    "    desc = c.description\n",
    "    columns = [d[0] for d in desc]\n",
    "    data = c.fetchall()\n",
    "    print(columns)\n",
    "    print(data)"
   ]
  },
  {
   "cell_type": "code",
   "execution_count": 93,
   "metadata": {},
   "outputs": [],
   "source": [
    "import pandas as pd"
   ]
  },
  {
   "cell_type": "code",
   "execution_count": 94,
   "metadata": {},
   "outputs": [],
   "source": [
    "df = pd.DataFrame(data, columns = columns)"
   ]
  },
  {
   "cell_type": "code",
   "execution_count": 95,
   "metadata": {},
   "outputs": [
    {
     "data": {
      "text/html": [
       "<div>\n",
       "<style scoped>\n",
       "    .dataframe tbody tr th:only-of-type {\n",
       "        vertical-align: middle;\n",
       "    }\n",
       "\n",
       "    .dataframe tbody tr th {\n",
       "        vertical-align: top;\n",
       "    }\n",
       "\n",
       "    .dataframe thead th {\n",
       "        text-align: right;\n",
       "    }\n",
       "</style>\n",
       "<table border=\"1\" class=\"dataframe\">\n",
       "  <thead>\n",
       "    <tr style=\"text-align: right;\">\n",
       "      <th></th>\n",
       "      <th>id</th>\n",
       "      <th>value</th>\n",
       "      <th>car</th>\n",
       "    </tr>\n",
       "  </thead>\n",
       "  <tbody>\n",
       "    <tr>\n",
       "      <th>0</th>\n",
       "      <td>1</td>\n",
       "      <td>1000.0</td>\n",
       "      <td>New1</td>\n",
       "    </tr>\n",
       "    <tr>\n",
       "      <th>1</th>\n",
       "      <td>2</td>\n",
       "      <td>2000.0</td>\n",
       "      <td>Moje0</td>\n",
       "    </tr>\n",
       "    <tr>\n",
       "      <th>2</th>\n",
       "      <td>3</td>\n",
       "      <td>3000.0</td>\n",
       "      <td>New3</td>\n",
       "    </tr>\n",
       "    <tr>\n",
       "      <th>3</th>\n",
       "      <td>4</td>\n",
       "      <td>4000.0</td>\n",
       "      <td>New4</td>\n",
       "    </tr>\n",
       "    <tr>\n",
       "      <th>4</th>\n",
       "      <td>5</td>\n",
       "      <td>5000.0</td>\n",
       "      <td>Moje1</td>\n",
       "    </tr>\n",
       "    <tr>\n",
       "      <th>5</th>\n",
       "      <td>6</td>\n",
       "      <td>6000.0</td>\n",
       "      <td>Moje2</td>\n",
       "    </tr>\n",
       "    <tr>\n",
       "      <th>6</th>\n",
       "      <td>7</td>\n",
       "      <td>7000.0</td>\n",
       "      <td>Moje3</td>\n",
       "    </tr>\n",
       "    <tr>\n",
       "      <th>7</th>\n",
       "      <td>8</td>\n",
       "      <td>10000.0</td>\n",
       "      <td>Moje4</td>\n",
       "    </tr>\n",
       "  </tbody>\n",
       "</table>\n",
       "</div>"
      ],
      "text/plain": [
       "   id    value    car\n",
       "0   1   1000.0   New1\n",
       "1   2   2000.0  Moje0\n",
       "2   3   3000.0   New3\n",
       "3   4   4000.0   New4\n",
       "4   5   5000.0  Moje1\n",
       "5   6   6000.0  Moje2\n",
       "6   7   7000.0  Moje3\n",
       "7   8  10000.0  Moje4"
      ]
     },
     "execution_count": 95,
     "metadata": {},
     "output_type": "execute_result"
    }
   ],
   "source": [
    "df"
   ]
  },
  {
   "cell_type": "code",
   "execution_count": null,
   "metadata": {},
   "outputs": [],
   "source": []
  }
 ],
 "metadata": {
  "kernelspec": {
   "display_name": "Python 3",
   "language": "python",
   "name": "python3"
  },
  "language_info": {
   "codemirror_mode": {
    "name": "ipython",
    "version": 3
   },
   "file_extension": ".py",
   "mimetype": "text/x-python",
   "name": "python",
   "nbconvert_exporter": "python",
   "pygments_lexer": "ipython3",
   "version": "3.8.6"
  }
 },
 "nbformat": 4,
 "nbformat_minor": 5
}
