{
 "cells": [
  {
   "cell_type": "code",
   "execution_count": null,
   "metadata": {},
   "outputs": [],
   "source": [
    "??? nevím jak funguje pro sqlite3, všude jsou příklady se sqlite3.connect"
   ]
  },
  {
   "cell_type": "code",
   "execution_count": null,
   "metadata": {},
   "outputs": [],
   "source": []
  },
  {
   "cell_type": "code",
   "execution_count": 3,
   "metadata": {},
   "outputs": [],
   "source": [
    "import pyodbc\n",
    "\n",
    "#DESKTOP-NO9U58U\\SQLEXPRESS\n",
    "\n",
    "conn = pyodbc.connect('Driver={SQL Server};'\n",
    "                      'Server=DESKTOP-NO9U58U\\SQLEXPRESS;'\n",
    "                      'Database=dbMoje;'\n",
    "                      'Trusted_Connection=yes;')"
   ]
  },
  {
   "cell_type": "code",
   "execution_count": 4,
   "metadata": {},
   "outputs": [
    {
     "name": "stdout",
     "output_type": "stream",
     "text": [
      "('98812753-54BF-4B50-9864-543E2A4E4B6D', datetime.datetime(2020, 7, 19, 10, 45, 12), 'Ahoj')\n",
      "('52158BEA-E00D-4B0A-81EC-ED43C06DF2E9', datetime.datetime(2020, 7, 23, 0, 0), 'Western Camp')\n",
      "('FC39A218-4EE6-4B38-B9CD-531A55A27D82', datetime.datetime(2020, 7, 23, 7, 6, 3, 617000), 'Energylandia')\n",
      "('8D1E0014-A25E-4665-9426-38486FA92E91', datetime.datetime(2020, 7, 23, 7, 6, 24, 303000), 'Energylandia')\n"
     ]
    }
   ],
   "source": [
    "cursor = conn.cursor()\n",
    "cursor.execute('SELECT * FROM Moje')\n",
    "\n",
    "for row in cursor:\n",
    "    print(row)\n",
    "    \n",
    "cursor.close()"
   ]
  },
  {
   "cell_type": "code",
   "execution_count": 3,
   "metadata": {},
   "outputs": [],
   "source": [
    "cursor = conn.cursor()\n",
    "cursor.execute('''INSERT INTO Moje(ID,TIME, TEXT) VALUES (NEWID(),GETDATE(),'Energylandia');''')\n",
    "cursor.close()"
   ]
  },
  {
   "cell_type": "code",
   "execution_count": 4,
   "metadata": {},
   "outputs": [
    {
     "name": "stdout",
     "output_type": "stream",
     "text": [
      "('98812753-54BF-4B50-9864-543E2A4E4B6D', datetime.datetime(2020, 7, 19, 10, 45, 12), 'Ahoj')\n",
      "('52158BEA-E00D-4B0A-81EC-ED43C06DF2E9', datetime.datetime(2020, 7, 23, 0, 0), 'Western Camp')\n",
      "('FC39A218-4EE6-4B38-B9CD-531A55A27D82', datetime.datetime(2020, 7, 23, 7, 6, 3, 617000), 'Energylandia')\n",
      "('8D1E0014-A25E-4665-9426-38486FA92E91', datetime.datetime(2020, 7, 23, 7, 6, 24, 303000), 'Energylandia')\n",
      "('5556C110-C0DD-48CD-AF34-283E01572062', datetime.datetime(2020, 7, 23, 8, 5, 8, 710000), 'Energylandia')\n"
     ]
    }
   ],
   "source": [
    "cursor = conn.cursor()\n",
    "cursor.execute('SELECT * FROM Moje')\n",
    "\n",
    "for row in cursor:\n",
    "    print(row)\n",
    "    \n",
    "cursor.close()"
   ]
  },
  {
   "cell_type": "code",
   "execution_count": 5,
   "metadata": {},
   "outputs": [],
   "source": [
    "cursor = conn.cursor()\n",
    "cursor.execute('''DELETE FROM Moje WHERE ID = '8D1E0014-A25E-4665-9426-38486FA92E91' ''')  \n",
    "cursor.close()"
   ]
  },
  {
   "cell_type": "code",
   "execution_count": 6,
   "metadata": {},
   "outputs": [
    {
     "name": "stdout",
     "output_type": "stream",
     "text": [
      "('98812753-54BF-4B50-9864-543E2A4E4B6D', datetime.datetime(2020, 7, 19, 10, 45, 12), 'Ahoj')\n",
      "('52158BEA-E00D-4B0A-81EC-ED43C06DF2E9', datetime.datetime(2020, 7, 23, 0, 0), 'Western Camp')\n",
      "('FC39A218-4EE6-4B38-B9CD-531A55A27D82', datetime.datetime(2020, 7, 23, 7, 6, 3, 617000), 'Energylandia')\n",
      "('5556C110-C0DD-48CD-AF34-283E01572062', datetime.datetime(2020, 7, 23, 8, 5, 8, 710000), 'Energylandia')\n"
     ]
    }
   ],
   "source": [
    "cursor = conn.cursor()\n",
    "cursor.execute('SELECT * FROM Moje')\n",
    "\n",
    "for row in cursor:\n",
    "    print(row)\n",
    "    \n",
    "cursor.close()"
   ]
  },
  {
   "cell_type": "code",
   "execution_count": 7,
   "metadata": {},
   "outputs": [],
   "source": [
    "cursor = conn.cursor()\n",
    "cursor.execute('''DELETE FROM Moje WHERE TIME >= '2020-07-23 07:30:00' ''')  \n",
    "cursor.close()"
   ]
  },
  {
   "cell_type": "code",
   "execution_count": 8,
   "metadata": {},
   "outputs": [
    {
     "name": "stdout",
     "output_type": "stream",
     "text": [
      "('98812753-54BF-4B50-9864-543E2A4E4B6D', datetime.datetime(2020, 7, 19, 10, 45, 12), 'Ahoj')\n",
      "('52158BEA-E00D-4B0A-81EC-ED43C06DF2E9', datetime.datetime(2020, 7, 23, 0, 0), 'Western Camp')\n",
      "('FC39A218-4EE6-4B38-B9CD-531A55A27D82', datetime.datetime(2020, 7, 23, 7, 6, 3, 617000), 'Energylandia')\n"
     ]
    }
   ],
   "source": [
    "cursor = conn.cursor()\n",
    "cursor.execute('SELECT * FROM Moje')\n",
    "\n",
    "for row in cursor:\n",
    "    print(row)\n",
    "    \n",
    "cursor.close()"
   ]
  },
  {
   "cell_type": "code",
   "execution_count": 9,
   "metadata": {},
   "outputs": [],
   "source": [
    "cursor = conn.cursor()\n",
    "cursor.execute('SELECT * FROM Moje')\n",
    "\n",
    "num_fields = len(cursor.description)\n",
    "field_names = [i[0] for i in cursor.description]\n",
    "\n",
    "cursor.close()"
   ]
  },
  {
   "cell_type": "code",
   "execution_count": 20,
   "metadata": {},
   "outputs": [
    {
     "data": {
      "text/plain": [
       "['ID', 'TIME', 'TEXT']"
      ]
     },
     "execution_count": 20,
     "metadata": {},
     "output_type": "execute_result"
    }
   ],
   "source": [
    "field_names"
   ]
  },
  {
   "cell_type": "code",
   "execution_count": 7,
   "metadata": {},
   "outputs": [],
   "source": [
    "import pandas as pd"
   ]
  },
  {
   "cell_type": "code",
   "execution_count": 23,
   "metadata": {},
   "outputs": [
    {
     "name": "stdout",
     "output_type": "stream",
     "text": [
      "[('98812753-54BF-4B50-9864-543E2A4E4B6D', datetime.datetime(2020, 7, 19, 10, 45, 12), 'Ahoj'), ('52158BEA-E00D-4B0A-81EC-ED43C06DF2E9', datetime.datetime(2020, 7, 23, 0, 0), 'Western Camp'), ('FC39A218-4EE6-4B38-B9CD-531A55A27D82', datetime.datetime(2020, 7, 23, 7, 6, 3, 617000), 'Energylandia'), ('8D1E0014-A25E-4665-9426-38486FA92E91', datetime.datetime(2020, 7, 23, 7, 6, 24, 303000), 'Energylandia')]\n"
     ]
    }
   ],
   "source": [
    "cursor = conn.cursor()\n",
    "sql = \"SELECT * FROM Moje\"\n",
    "cursor.execute(sql)\n",
    "\n",
    "num_fields = len(cursor.description)\n",
    "field_names = [i[0] for i in cursor.description]\n",
    "\n",
    "results = cursor.fetchall()\n",
    "print(results)\n",
    "\n",
    "cursor.close()"
   ]
  },
  {
   "cell_type": "code",
   "execution_count": 24,
   "metadata": {},
   "outputs": [
    {
     "data": {
      "text/plain": [
       "list"
      ]
     },
     "execution_count": 24,
     "metadata": {},
     "output_type": "execute_result"
    }
   ],
   "source": [
    "results.__class__"
   ]
  },
  {
   "cell_type": "code",
   "execution_count": 25,
   "metadata": {},
   "outputs": [
    {
     "data": {
      "text/plain": [
       "pyodbc.Row"
      ]
     },
     "execution_count": 25,
     "metadata": {},
     "output_type": "execute_result"
    }
   ],
   "source": [
    "results[0].__class__"
   ]
  },
  {
   "cell_type": "code",
   "execution_count": 11,
   "metadata": {},
   "outputs": [],
   "source": [
    "# prevede spatne, je tam jen jeden sloupec s typem pyodbc.Row\n",
    "df = pd.DataFrame(results)"
   ]
  },
  {
   "cell_type": "code",
   "execution_count": 17,
   "metadata": {},
   "outputs": [
    {
     "data": {
      "text/html": [
       "<div>\n",
       "<style scoped>\n",
       "    .dataframe tbody tr th:only-of-type {\n",
       "        vertical-align: middle;\n",
       "    }\n",
       "\n",
       "    .dataframe tbody tr th {\n",
       "        vertical-align: top;\n",
       "    }\n",
       "\n",
       "    .dataframe thead th {\n",
       "        text-align: right;\n",
       "    }\n",
       "</style>\n",
       "<table border=\"1\" class=\"dataframe\">\n",
       "  <thead>\n",
       "    <tr style=\"text-align: right;\">\n",
       "      <th></th>\n",
       "      <th>0</th>\n",
       "    </tr>\n",
       "  </thead>\n",
       "  <tbody>\n",
       "    <tr>\n",
       "      <th>0</th>\n",
       "      <td>[98812753-54BF-4B50-9864-543E2A4E4B6D, 2020-07...</td>\n",
       "    </tr>\n",
       "    <tr>\n",
       "      <th>1</th>\n",
       "      <td>[52158BEA-E00D-4B0A-81EC-ED43C06DF2E9, 2020-07...</td>\n",
       "    </tr>\n",
       "    <tr>\n",
       "      <th>2</th>\n",
       "      <td>[FC39A218-4EE6-4B38-B9CD-531A55A27D82, 2020-07...</td>\n",
       "    </tr>\n",
       "    <tr>\n",
       "      <th>3</th>\n",
       "      <td>[8D1E0014-A25E-4665-9426-38486FA92E91, 2020-07...</td>\n",
       "    </tr>\n",
       "  </tbody>\n",
       "</table>\n",
       "</div>"
      ],
      "text/plain": [
       "                                                   0\n",
       "0  [98812753-54BF-4B50-9864-543E2A4E4B6D, 2020-07...\n",
       "1  [52158BEA-E00D-4B0A-81EC-ED43C06DF2E9, 2020-07...\n",
       "2  [FC39A218-4EE6-4B38-B9CD-531A55A27D82, 2020-07...\n",
       "3  [8D1E0014-A25E-4665-9426-38486FA92E91, 2020-07..."
      ]
     },
     "execution_count": 17,
     "metadata": {},
     "output_type": "execute_result"
    }
   ],
   "source": [
    "df"
   ]
  },
  {
   "cell_type": "code",
   "execution_count": 21,
   "metadata": {},
   "outputs": [
    {
     "data": {
      "text/plain": [
       "pyodbc.Row"
      ]
     },
     "execution_count": 21,
     "metadata": {},
     "output_type": "execute_result"
    }
   ],
   "source": [
    "df[0][0].__class__"
   ]
  },
  {
   "cell_type": "code",
   "execution_count": 27,
   "metadata": {},
   "outputs": [],
   "source": [
    "# prevede spravne\n",
    "df = pd.DataFrame((tuple(t) for t in results)) "
   ]
  },
  {
   "cell_type": "code",
   "execution_count": 28,
   "metadata": {},
   "outputs": [
    {
     "data": {
      "text/html": [
       "<div>\n",
       "<style scoped>\n",
       "    .dataframe tbody tr th:only-of-type {\n",
       "        vertical-align: middle;\n",
       "    }\n",
       "\n",
       "    .dataframe tbody tr th {\n",
       "        vertical-align: top;\n",
       "    }\n",
       "\n",
       "    .dataframe thead th {\n",
       "        text-align: right;\n",
       "    }\n",
       "</style>\n",
       "<table border=\"1\" class=\"dataframe\">\n",
       "  <thead>\n",
       "    <tr style=\"text-align: right;\">\n",
       "      <th></th>\n",
       "      <th>0</th>\n",
       "      <th>1</th>\n",
       "      <th>2</th>\n",
       "    </tr>\n",
       "  </thead>\n",
       "  <tbody>\n",
       "    <tr>\n",
       "      <th>0</th>\n",
       "      <td>98812753-54BF-4B50-9864-543E2A4E4B6D</td>\n",
       "      <td>2020-07-19 10:45:12.000</td>\n",
       "      <td>Ahoj</td>\n",
       "    </tr>\n",
       "    <tr>\n",
       "      <th>1</th>\n",
       "      <td>52158BEA-E00D-4B0A-81EC-ED43C06DF2E9</td>\n",
       "      <td>2020-07-23 00:00:00.000</td>\n",
       "      <td>Western Camp</td>\n",
       "    </tr>\n",
       "    <tr>\n",
       "      <th>2</th>\n",
       "      <td>FC39A218-4EE6-4B38-B9CD-531A55A27D82</td>\n",
       "      <td>2020-07-23 07:06:03.617</td>\n",
       "      <td>Energylandia</td>\n",
       "    </tr>\n",
       "    <tr>\n",
       "      <th>3</th>\n",
       "      <td>8D1E0014-A25E-4665-9426-38486FA92E91</td>\n",
       "      <td>2020-07-23 07:06:24.303</td>\n",
       "      <td>Energylandia</td>\n",
       "    </tr>\n",
       "  </tbody>\n",
       "</table>\n",
       "</div>"
      ],
      "text/plain": [
       "                                      0                       1             2\n",
       "0  98812753-54BF-4B50-9864-543E2A4E4B6D 2020-07-19 10:45:12.000          Ahoj\n",
       "1  52158BEA-E00D-4B0A-81EC-ED43C06DF2E9 2020-07-23 00:00:00.000  Western Camp\n",
       "2  FC39A218-4EE6-4B38-B9CD-531A55A27D82 2020-07-23 07:06:03.617  Energylandia\n",
       "3  8D1E0014-A25E-4665-9426-38486FA92E91 2020-07-23 07:06:24.303  Energylandia"
      ]
     },
     "execution_count": 28,
     "metadata": {},
     "output_type": "execute_result"
    }
   ],
   "source": [
    "df"
   ]
  },
  {
   "cell_type": "code",
   "execution_count": 29,
   "metadata": {},
   "outputs": [],
   "source": [
    "df.columns = field_names"
   ]
  },
  {
   "cell_type": "code",
   "execution_count": 30,
   "metadata": {},
   "outputs": [
    {
     "data": {
      "text/html": [
       "<div>\n",
       "<style scoped>\n",
       "    .dataframe tbody tr th:only-of-type {\n",
       "        vertical-align: middle;\n",
       "    }\n",
       "\n",
       "    .dataframe tbody tr th {\n",
       "        vertical-align: top;\n",
       "    }\n",
       "\n",
       "    .dataframe thead th {\n",
       "        text-align: right;\n",
       "    }\n",
       "</style>\n",
       "<table border=\"1\" class=\"dataframe\">\n",
       "  <thead>\n",
       "    <tr style=\"text-align: right;\">\n",
       "      <th></th>\n",
       "      <th>ID</th>\n",
       "      <th>TIME</th>\n",
       "      <th>TEXT</th>\n",
       "    </tr>\n",
       "  </thead>\n",
       "  <tbody>\n",
       "    <tr>\n",
       "      <th>0</th>\n",
       "      <td>98812753-54BF-4B50-9864-543E2A4E4B6D</td>\n",
       "      <td>2020-07-19 10:45:12.000</td>\n",
       "      <td>Ahoj</td>\n",
       "    </tr>\n",
       "    <tr>\n",
       "      <th>1</th>\n",
       "      <td>52158BEA-E00D-4B0A-81EC-ED43C06DF2E9</td>\n",
       "      <td>2020-07-23 00:00:00.000</td>\n",
       "      <td>Western Camp</td>\n",
       "    </tr>\n",
       "    <tr>\n",
       "      <th>2</th>\n",
       "      <td>FC39A218-4EE6-4B38-B9CD-531A55A27D82</td>\n",
       "      <td>2020-07-23 07:06:03.617</td>\n",
       "      <td>Energylandia</td>\n",
       "    </tr>\n",
       "    <tr>\n",
       "      <th>3</th>\n",
       "      <td>8D1E0014-A25E-4665-9426-38486FA92E91</td>\n",
       "      <td>2020-07-23 07:06:24.303</td>\n",
       "      <td>Energylandia</td>\n",
       "    </tr>\n",
       "  </tbody>\n",
       "</table>\n",
       "</div>"
      ],
      "text/plain": [
       "                                     ID                    TIME          TEXT\n",
       "0  98812753-54BF-4B50-9864-543E2A4E4B6D 2020-07-19 10:45:12.000          Ahoj\n",
       "1  52158BEA-E00D-4B0A-81EC-ED43C06DF2E9 2020-07-23 00:00:00.000  Western Camp\n",
       "2  FC39A218-4EE6-4B38-B9CD-531A55A27D82 2020-07-23 07:06:03.617  Energylandia\n",
       "3  8D1E0014-A25E-4665-9426-38486FA92E91 2020-07-23 07:06:24.303  Energylandia"
      ]
     },
     "execution_count": 30,
     "metadata": {},
     "output_type": "execute_result"
    }
   ],
   "source": [
    "df"
   ]
  },
  {
   "cell_type": "code",
   "execution_count": null,
   "metadata": {},
   "outputs": [],
   "source": []
  }
 ],
 "metadata": {
  "kernelspec": {
   "display_name": "Python 3",
   "language": "python",
   "name": "python3"
  },
  "language_info": {
   "codemirror_mode": {
    "name": "ipython",
    "version": 3
   },
   "file_extension": ".py",
   "mimetype": "text/x-python",
   "name": "python",
   "nbconvert_exporter": "python",
   "pygments_lexer": "ipython3",
   "version": "3.7.7"
  }
 },
 "nbformat": 4,
 "nbformat_minor": 4
}
