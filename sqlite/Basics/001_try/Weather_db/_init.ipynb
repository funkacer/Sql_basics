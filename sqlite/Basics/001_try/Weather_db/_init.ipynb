{
 "cells": [
  {
   "cell_type": "code",
   "execution_count": 1,
   "metadata": {},
   "outputs": [],
   "source": [
    "import pandas as pd\n",
    "\n",
    "#import pyodbc\n",
    "import sqlite3"
   ]
  },
  {
   "cell_type": "code",
   "execution_count": 2,
   "metadata": {},
   "outputs": [],
   "source": [
    "def init_db(name):\n",
    "    conn = sqlite3.connect(name)\n",
    "    cursor = conn.cursor()\n",
    "    cursor.execute(\"CREATE TABLE condition (\"+\n",
    "            \"_id INTEGER PRIMARY KEY AUTOINCREMENT,\"+\n",
    "            \"city TEXT,\"+\n",
    "            \"country TEXT,\"+\n",
    "            \"region TEXT,\"+\n",
    "            \"chill INTEGER,\"+\n",
    "            \"direction INTEGER,\"+\n",
    "            \"speed REAL,\"+\n",
    "            \"sunrise TEXT,\"+\n",
    "            \"sunset TEXT,\"+\n",
    "            \"humidity INTEGER,\"+\n",
    "            \"pressure REAL,\"+\n",
    "            \"rising INTEGER,\"+\n",
    "            \"visibility REAL,\"+\n",
    "            \"pubdate TEXT,\"+\n",
    "            \"text TEXT,\"+\n",
    "            \"code INTEGER,\"+\n",
    "            \"temperature INTEGER,\"+\n",
    "            \"creatat TEXT,\"+\n",
    "            \"changeat TEXT)\")\n",
    "    \n",
    "    #cursor.execute(\"DROP TABLE forecast\")\n",
    "    cursor.execute(\"CREATE TABLE forecast (\"+\n",
    "            \"_id INTEGER PRIMARY KEY AUTOINCREMENT,\"+\n",
    "            \"condate TEXT,\"+\n",
    "            \"day TEXT,\"+\n",
    "            \"date TEXT,\"+\n",
    "            \"code INTEGER,\"+\n",
    "            \"low INTEGER,\"+\n",
    "            \"high INTEGER,\"+\n",
    "            \"text TEXT,\"+\n",
    "            \"creatat TEXT,\"+\n",
    "            \"changeat TEXT)\")\n",
    "        \n",
    "    cursor.close()"
   ]
  },
  {
   "cell_type": "code",
   "execution_count": 3,
   "metadata": {},
   "outputs": [],
   "source": [
    "init_db('Weather_db.db')"
   ]
  },
  {
   "cell_type": "code",
   "execution_count": 4,
   "metadata": {},
   "outputs": [],
   "source": [
    "'''conn = pyodbc.connect('Driver={SQL Server};'\n",
    "                      'Server=DESKTOP-NO9U58U\\SQLEXPRESS;'\n",
    "                      'Database=dbMoje;'\n",
    "                      'Trusted_Connection=yes;')'''\n",
    "\n",
    "conn = sqlite3.connect('Weather_db.db')"
   ]
  },
  {
   "cell_type": "code",
   "execution_count": 5,
   "metadata": {},
   "outputs": [
    {
     "name": "stdout",
     "output_type": "stream",
     "text": [
      "('table', 'condition', 'condition', 2, 'CREATE TABLE condition (_id INTEGER PRIMARY KEY AUTOINCREMENT,city TEXT,country TEXT,region TEXT,chill INTEGER,direction INTEGER,speed REAL,sunrise TEXT,sunset TEXT,humidity INTEGER,pressure REAL,rising INTEGER,visibility REAL,pubdate TEXT,text TEXT,code INTEGER,temperature INTEGER,creatat TEXT,changeat TEXT)')\n",
      "('table', 'sqlite_sequence', 'sqlite_sequence', 3, 'CREATE TABLE sqlite_sequence(name,seq)')\n",
      "('table', 'forecast', 'forecast', 4, 'CREATE TABLE forecast (_id INTEGER PRIMARY KEY AUTOINCREMENT,condate TEXT,day TEXT,date TEXT,code INTEGER,low INTEGER,high INTEGER,text TEXT,creatat TEXT,changeat TEXT)')\n"
     ]
    }
   ],
   "source": [
    "cursor = conn.cursor()\n",
    "cursor.execute('SELECT * FROM sqlite_master WHERE type = \"table\"')\n",
    "\n",
    "for row in cursor:\n",
    "    print(row)\n",
    "\n",
    "cursor.close()"
   ]
  },
  {
   "cell_type": "code",
   "execution_count": null,
   "metadata": {},
   "outputs": [],
   "source": []
  }
 ],
 "metadata": {
  "kernelspec": {
   "display_name": "Python 3",
   "language": "python",
   "name": "python3"
  },
  "language_info": {
   "codemirror_mode": {
    "name": "ipython",
    "version": 3
   },
   "file_extension": ".py",
   "mimetype": "text/x-python",
   "name": "python",
   "nbconvert_exporter": "python",
   "pygments_lexer": "ipython3",
   "version": "3.7.7"
  }
 },
 "nbformat": 4,
 "nbformat_minor": 4
}
